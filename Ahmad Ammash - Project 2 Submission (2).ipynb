{
 "cells": [
  {
   "cell_type": "markdown",
   "metadata": {
    "index": 0
   },
   "source": [
    "# LEGO Regression Project\n",
    "\n",
    "## Introduction \n",
    "\n",
    "In this notebook you'll perform a simple linear regression analysis and report the findings of your model, including both predictive model performance metrics and interpretation of fitted model parameters.\n",
    "\n",
    "## Objectives\n",
    "\n",
    "You will be able to:\n",
    "\n",
    "* Write an SQL query to pull data from an SQL database\n",
    "* Perform a simple linear regression analysis \n",
    "* Evaluate your model and interpret its predictive performance metrics\n",
    "* Apply an inferential lens to interpret relationships betyouen variables identified by the model"
   ]
  },
  {
   "cell_type": "markdown",
   "metadata": {
    "index": 1
   },
   "source": [
    "# Task: Develop a LEGO Pricing Algorithm\n",
    "\n",
    "![pile of legos](images/legos.jpg)\n",
    "\n",
    "Photo by <a href=\"https://unsplash.com/@xavi_cabrera?utm_source=unsplash&utm_medium=referral&utm_content=creditCopyText\">Xavi Cabrera</a> on <a href=\"/s/photos/lego?utm_source=unsplash&utm_medium=referral&utm_content=creditCopyText\">Unsplash</a>"
   ]
  },
  {
   "cell_type": "markdown",
   "metadata": {},
   "source": [
    "WE ARE FOCUSING ON THE RELATIONSHIP BETWEEN THE ATTRIBUTES OF A LEGO AND ITS PRICE"
   ]
  },
  {
   "cell_type": "markdown",
   "metadata": {
    "index": 2
   },
   "source": [
    "## Business Understanding\n",
    "\n",
    "You just got hired by LEGO! Your first project is going to be to develop a pricing algorithm in order to analyze the value of individual lego pieces.\n",
    "\n",
    "The primary purpose of this algorithm is *inferential*, meaning that **your model should be able to tell us something about the relationship between the attributes of a LEGO set and its price**. You will apply your knowledge of statistics to include appropriate caveats about these relationships.\n",
    "\n",
    "## Data Understanding\n",
    "\n",
    "You have been given access to an sql database containing over 700 LEGO sets released in the past, including attributes of those sets as well as their prices.\n",
    "\n",
    "You do not need to worry about inflation or differences in currency; just predict the same kinds of prices as are present in the past data, which have already been converted to USD.\n",
    "\n",
    "## Loading the Data\n",
    "\n",
    "The database for this project is stored at the path `data/legos.db` in this project repository. The entity relational diagram (E.R.D) for the legos database is displayed below. \n",
    "\n",
    "To load in the data, you will need to complete the following tasks:\n",
    "- Open up a connection to the legos database\n",
    "- Write an sql query to join all three tables together\n",
    "- Run the sql query and load the joined tables into a pandas dataframe\n",
    "    - The easiest method for completing this task is to use the `pd.read_sql` function ([Documentation](https://pandas.pydata.org/docs/reference/api/pandas.read_sql.html))\n",
    "    - Store the pandas dataframe in a variable called `df`\n",
    "\n",
    "![Entity Relational Diagram](images/erd.png)"
   ]
  },
  {
   "cell_type": "code",
   "execution_count": 150,
   "metadata": {
    "index": 3
   },
   "outputs": [],
   "source": [
    "# Run this cell without changes\n",
    "import sqlite3\n",
    "import pandas as pd\n",
    "import matplotlib.pyplot as plt\n",
    "%matplotlib inline"
   ]
  },
  {
   "cell_type": "code",
   "execution_count": 151,
   "metadata": {
    "index": 5
   },
   "outputs": [
    {
     "name": "stdout",
     "output_type": "stream",
     "text": [
      "The join of the 3 tables produces the dataframe:\n"
     ]
    },
    {
     "data": {
      "text/html": [
       "<div>\n",
       "<style scoped>\n",
       "    .dataframe tbody tr th:only-of-type {\n",
       "        vertical-align: middle;\n",
       "    }\n",
       "\n",
       "    .dataframe tbody tr th {\n",
       "        vertical-align: top;\n",
       "    }\n",
       "\n",
       "    .dataframe thead th {\n",
       "        text-align: right;\n",
       "    }\n",
       "</style>\n",
       "<table border=\"1\" class=\"dataframe\">\n",
       "  <thead>\n",
       "    <tr style=\"text-align: right;\">\n",
       "      <th></th>\n",
       "      <th>Prod Id</th>\n",
       "      <th>Min Age</th>\n",
       "      <th>Max Age</th>\n",
       "      <th>Difficulty Level</th>\n",
       "      <th>Set Name</th>\n",
       "      <th>Prod Desc</th>\n",
       "      <th>Theme Name</th>\n",
       "      <th>Piece Count</th>\n",
       "      <th>Num Reviews</th>\n",
       "      <th>Star Rating</th>\n",
       "      <th>List Price</th>\n",
       "    </tr>\n",
       "  </thead>\n",
       "  <tbody>\n",
       "    <tr>\n",
       "      <th>0</th>\n",
       "      <td>60123</td>\n",
       "      <td>7.0</td>\n",
       "      <td>12.0</td>\n",
       "      <td>1</td>\n",
       "      <td>Volcano Supply Helicopter</td>\n",
       "      <td>Fly in the exploration gear and fly out the cr...</td>\n",
       "      <td>City</td>\n",
       "      <td>330</td>\n",
       "      <td>3.0</td>\n",
       "      <td>4.3</td>\n",
       "      <td>$49.99</td>\n",
       "    </tr>\n",
       "    <tr>\n",
       "      <th>1</th>\n",
       "      <td>71246</td>\n",
       "      <td>7.0</td>\n",
       "      <td>14.0</td>\n",
       "      <td>1</td>\n",
       "      <td>Adventure Time™ Team Pack</td>\n",
       "      <td>Explore the Land of Ooo with Jake and Lumpy Sp...</td>\n",
       "      <td>DIMENSIONS™</td>\n",
       "      <td>96</td>\n",
       "      <td>3.0</td>\n",
       "      <td>4.7</td>\n",
       "      <td>$30.362</td>\n",
       "    </tr>\n",
       "    <tr>\n",
       "      <th>2</th>\n",
       "      <td>10616</td>\n",
       "      <td>1.5</td>\n",
       "      <td>5.0</td>\n",
       "      <td>1</td>\n",
       "      <td>My First Playhouse</td>\n",
       "      <td>Learn about daily routines with this easy-to-b...</td>\n",
       "      <td>DUPLO®</td>\n",
       "      <td>25</td>\n",
       "      <td>3.0</td>\n",
       "      <td>5.0</td>\n",
       "      <td>$19.99</td>\n",
       "    </tr>\n",
       "    <tr>\n",
       "      <th>3</th>\n",
       "      <td>31079</td>\n",
       "      <td>8.0</td>\n",
       "      <td>12.0</td>\n",
       "      <td>1</td>\n",
       "      <td>Sunshine Surfer Van</td>\n",
       "      <td>Enjoy seaside fun with the 3-in-1 Sunshine Sur...</td>\n",
       "      <td>Creator 3-in-1</td>\n",
       "      <td>379</td>\n",
       "      <td>5.0</td>\n",
       "      <td>4.4</td>\n",
       "      <td>$34.99</td>\n",
       "    </tr>\n",
       "    <tr>\n",
       "      <th>4</th>\n",
       "      <td>42057</td>\n",
       "      <td>8.0</td>\n",
       "      <td>14.0</td>\n",
       "      <td>1</td>\n",
       "      <td>Ultralight Helicopter</td>\n",
       "      <td>Take to the skies with the Ultralight Helicopter!</td>\n",
       "      <td>Technic</td>\n",
       "      <td>199</td>\n",
       "      <td>9.0</td>\n",
       "      <td>4.7</td>\n",
       "      <td>$19.99</td>\n",
       "    </tr>\n",
       "    <tr>\n",
       "      <th>...</th>\n",
       "      <td>...</td>\n",
       "      <td>...</td>\n",
       "      <td>...</td>\n",
       "      <td>...</td>\n",
       "      <td>...</td>\n",
       "      <td>...</td>\n",
       "      <td>...</td>\n",
       "      <td>...</td>\n",
       "      <td>...</td>\n",
       "      <td>...</td>\n",
       "      <td>...</td>\n",
       "    </tr>\n",
       "    <tr>\n",
       "      <th>879</th>\n",
       "      <td>60146</td>\n",
       "      <td>5.0</td>\n",
       "      <td>12.0</td>\n",
       "      <td>1</td>\n",
       "      <td>Stunt Truck</td>\n",
       "      <td>Strap in and jump some ramps!</td>\n",
       "      <td>City</td>\n",
       "      <td>91</td>\n",
       "      <td>8.0</td>\n",
       "      <td>4.8</td>\n",
       "      <td>$9.99</td>\n",
       "    </tr>\n",
       "    <tr>\n",
       "      <th>880</th>\n",
       "      <td>70313</td>\n",
       "      <td>8.0</td>\n",
       "      <td>14.0</td>\n",
       "      <td>2</td>\n",
       "      <td>Moltor’s Lava Smasher</td>\n",
       "      <td>Smash Aaron Fox out of the way and capture the...</td>\n",
       "      <td>NEXO KNIGHTS™</td>\n",
       "      <td>187</td>\n",
       "      <td>3.0</td>\n",
       "      <td>4.7</td>\n",
       "      <td>$19.99</td>\n",
       "    </tr>\n",
       "    <tr>\n",
       "      <th>881</th>\n",
       "      <td>70313</td>\n",
       "      <td>8.0</td>\n",
       "      <td>14.0</td>\n",
       "      <td>2</td>\n",
       "      <td>Moltor’s Lava Smasher</td>\n",
       "      <td>Smash Aaron Fox out of the way and capture the...</td>\n",
       "      <td>NEXO KNIGHTS™</td>\n",
       "      <td>187</td>\n",
       "      <td>3.0</td>\n",
       "      <td>4.7</td>\n",
       "      <td>None</td>\n",
       "    </tr>\n",
       "    <tr>\n",
       "      <th>882</th>\n",
       "      <td>70313</td>\n",
       "      <td>8.0</td>\n",
       "      <td>14.0</td>\n",
       "      <td>2</td>\n",
       "      <td>Moltor’s Lava Smasher</td>\n",
       "      <td>Smash Aaron Fox out of the way and capture the...</td>\n",
       "      <td>NEXO KNIGHTS™</td>\n",
       "      <td>187</td>\n",
       "      <td>3.0</td>\n",
       "      <td>4.7</td>\n",
       "      <td>$19.99</td>\n",
       "    </tr>\n",
       "    <tr>\n",
       "      <th>883</th>\n",
       "      <td>70313</td>\n",
       "      <td>8.0</td>\n",
       "      <td>14.0</td>\n",
       "      <td>2</td>\n",
       "      <td>Moltor’s Lava Smasher</td>\n",
       "      <td>Smash Aaron Fox out of the way and capture the...</td>\n",
       "      <td>NEXO KNIGHTS™</td>\n",
       "      <td>187</td>\n",
       "      <td>3.0</td>\n",
       "      <td>4.7</td>\n",
       "      <td>None</td>\n",
       "    </tr>\n",
       "  </tbody>\n",
       "</table>\n",
       "<p>884 rows × 11 columns</p>\n",
       "</div>"
      ],
      "text/plain": [
       "    Prod Id Min Age Max Age Difficulty Level                   Set Name  \\\n",
       "0     60123     7.0    12.0                1  Volcano Supply Helicopter   \n",
       "1     71246     7.0    14.0                1  Adventure Time™ Team Pack   \n",
       "2     10616     1.5     5.0                1         My First Playhouse   \n",
       "3     31079     8.0    12.0                1        Sunshine Surfer Van   \n",
       "4     42057     8.0    14.0                1      Ultralight Helicopter   \n",
       "..      ...     ...     ...              ...                        ...   \n",
       "879   60146     5.0    12.0                1                Stunt Truck   \n",
       "880   70313     8.0    14.0                2      Moltor’s Lava Smasher   \n",
       "881   70313     8.0    14.0                2      Moltor’s Lava Smasher   \n",
       "882   70313     8.0    14.0                2      Moltor’s Lava Smasher   \n",
       "883   70313     8.0    14.0                2      Moltor’s Lava Smasher   \n",
       "\n",
       "                                             Prod Desc      Theme Name  \\\n",
       "0    Fly in the exploration gear and fly out the cr...            City   \n",
       "1    Explore the Land of Ooo with Jake and Lumpy Sp...     DIMENSIONS™   \n",
       "2    Learn about daily routines with this easy-to-b...          DUPLO®   \n",
       "3    Enjoy seaside fun with the 3-in-1 Sunshine Sur...  Creator 3-in-1   \n",
       "4    Take to the skies with the Ultralight Helicopter!         Technic   \n",
       "..                                                 ...             ...   \n",
       "879                      Strap in and jump some ramps!            City   \n",
       "880  Smash Aaron Fox out of the way and capture the...   NEXO KNIGHTS™   \n",
       "881  Smash Aaron Fox out of the way and capture the...   NEXO KNIGHTS™   \n",
       "882  Smash Aaron Fox out of the way and capture the...   NEXO KNIGHTS™   \n",
       "883  Smash Aaron Fox out of the way and capture the...   NEXO KNIGHTS™   \n",
       "\n",
       "    Piece Count Num Reviews Star Rating List Price  \n",
       "0           330         3.0         4.3     $49.99  \n",
       "1            96         3.0         4.7    $30.362  \n",
       "2            25         3.0         5.0     $19.99  \n",
       "3           379         5.0         4.4     $34.99  \n",
       "4           199         9.0         4.7     $19.99  \n",
       "..          ...         ...         ...        ...  \n",
       "879          91         8.0         4.8      $9.99  \n",
       "880         187         3.0         4.7     $19.99  \n",
       "881         187         3.0         4.7       None  \n",
       "882         187         3.0         4.7     $19.99  \n",
       "883         187         3.0         4.7       None  \n",
       "\n",
       "[884 rows x 11 columns]"
      ]
     },
     "metadata": {},
     "output_type": "display_data"
    },
    {
     "data": {
      "text/plain": [
       "(884, 11)"
      ]
     },
     "execution_count": 151,
     "metadata": {},
     "output_type": "execute_result"
    }
   ],
   "source": [
    "# Replace None with your code\n",
    "\n",
    "connection = sqlite3.connect('data/legos.db') #opening up a connection to the legos database\n",
    "\n",
    "#creating a query that joins the 3 tables\n",
    "sql_query = \"\"\"\n",
    "SELECT * \n",
    "FROM difficulty AS d\n",
    "JOIN product_info AS p\n",
    "ON d.\"Prod Id\" = p.\"Prod Id\"\n",
    "JOIN metrics AS m\n",
    "ON d.\"Prod Id\" = m.\"Prod Id\"\n",
    "\n",
    "\"\"\"\n",
    "#reading the query and printing it as a dataframe\n",
    "df = pd.read_sql(sql_query,connection)\n",
    "print('The join of the 3 tables produces the dataframe:')\n",
    "df = df.T.drop_duplicates().T\n",
    "display(df)\n",
    "df.shape"
   ]
  },
  {
   "cell_type": "markdown",
   "metadata": {
    "index": 7
   },
   "source": [
    "## Analysis Requirements\n",
    "\n",
    "### 1. Data Exploration and Cleaning\n",
    "\n",
    "During the data exploration phase, the datatypes of columns should be checked, the distribution of the target variable should be inspected, null values should be either removed or replaced, and duplicates (in most cases) should be dropped. \n",
    "\n",
    "### 2. Create a Baseline Model\n",
    "\n",
    "In order to evaluate how youll a simple linear regression model is understanding the dependent variable, you will begin by first creating a model that predicts the mean of the dependent variable for every observation. Predicting the mean of `list_price` can be considered a highly naive model. If our simple linear regression model performs worse than this naive approach, you can safely say that it is not a very good model. \n",
    "\n",
    "### 3. Interpret a Correlation Heatmap\n",
    "\n",
    "To develop a simple linear regression model, you will identify the independent variable that is most correlated with our dependent variable. To do this this you will plot a correlation heatmap to identify the variable most correlated with `list_price`.\n",
    "\n",
    "### 4. Build a Simple Linear Regression Model\n",
    "\n",
    "Now, create a linear regression model using the `statsmodels` library where the most correlated feature is used as the independent variable and the dependent variable is properly set. \n",
    "\n",
    "### 5. Interpret the Simple Linear Regression Model\n",
    "\n",
    "Once the model has been fit, the coefficient for our independent variable, its p-value, and the coefficient confidence interval should be interpeted. You should ask ourselves whether or not the relationship your model is finding seems plausible. \n",
    "\n",
    "### 6. Evaluate the Simple Linear Regression Model\n",
    "\n",
    "Before you can make a final assessment of our model, you need to compare its metrics with the baseline model created in step one, and you need to check the assumptions of linear regression.\n"
   ]
  },
  {
   "cell_type": "markdown",
   "metadata": {
    "index": 8
   },
   "source": [
    "# 1. Data Exploration and Cleaning\n",
    "\n",
    "Inspect the dataframe by outputting the first five rows."
   ]
  },
  {
   "cell_type": "code",
   "execution_count": 152,
   "metadata": {
    "index": 9
   },
   "outputs": [
    {
     "data": {
      "text/html": [
       "<div>\n",
       "<style scoped>\n",
       "    .dataframe tbody tr th:only-of-type {\n",
       "        vertical-align: middle;\n",
       "    }\n",
       "\n",
       "    .dataframe tbody tr th {\n",
       "        vertical-align: top;\n",
       "    }\n",
       "\n",
       "    .dataframe thead th {\n",
       "        text-align: right;\n",
       "    }\n",
       "</style>\n",
       "<table border=\"1\" class=\"dataframe\">\n",
       "  <thead>\n",
       "    <tr style=\"text-align: right;\">\n",
       "      <th></th>\n",
       "      <th>Prod Id</th>\n",
       "      <th>Min Age</th>\n",
       "      <th>Max Age</th>\n",
       "      <th>Difficulty Level</th>\n",
       "      <th>Set Name</th>\n",
       "      <th>Prod Desc</th>\n",
       "      <th>Theme Name</th>\n",
       "      <th>Piece Count</th>\n",
       "      <th>Num Reviews</th>\n",
       "      <th>Star Rating</th>\n",
       "      <th>List Price</th>\n",
       "    </tr>\n",
       "  </thead>\n",
       "  <tbody>\n",
       "    <tr>\n",
       "      <th>0</th>\n",
       "      <td>60123</td>\n",
       "      <td>7.0</td>\n",
       "      <td>12.0</td>\n",
       "      <td>1</td>\n",
       "      <td>Volcano Supply Helicopter</td>\n",
       "      <td>Fly in the exploration gear and fly out the cr...</td>\n",
       "      <td>City</td>\n",
       "      <td>330</td>\n",
       "      <td>3.0</td>\n",
       "      <td>4.3</td>\n",
       "      <td>$49.99</td>\n",
       "    </tr>\n",
       "    <tr>\n",
       "      <th>1</th>\n",
       "      <td>71246</td>\n",
       "      <td>7.0</td>\n",
       "      <td>14.0</td>\n",
       "      <td>1</td>\n",
       "      <td>Adventure Time™ Team Pack</td>\n",
       "      <td>Explore the Land of Ooo with Jake and Lumpy Sp...</td>\n",
       "      <td>DIMENSIONS™</td>\n",
       "      <td>96</td>\n",
       "      <td>3.0</td>\n",
       "      <td>4.7</td>\n",
       "      <td>$30.362</td>\n",
       "    </tr>\n",
       "    <tr>\n",
       "      <th>2</th>\n",
       "      <td>10616</td>\n",
       "      <td>1.5</td>\n",
       "      <td>5.0</td>\n",
       "      <td>1</td>\n",
       "      <td>My First Playhouse</td>\n",
       "      <td>Learn about daily routines with this easy-to-b...</td>\n",
       "      <td>DUPLO®</td>\n",
       "      <td>25</td>\n",
       "      <td>3.0</td>\n",
       "      <td>5.0</td>\n",
       "      <td>$19.99</td>\n",
       "    </tr>\n",
       "    <tr>\n",
       "      <th>3</th>\n",
       "      <td>31079</td>\n",
       "      <td>8.0</td>\n",
       "      <td>12.0</td>\n",
       "      <td>1</td>\n",
       "      <td>Sunshine Surfer Van</td>\n",
       "      <td>Enjoy seaside fun with the 3-in-1 Sunshine Sur...</td>\n",
       "      <td>Creator 3-in-1</td>\n",
       "      <td>379</td>\n",
       "      <td>5.0</td>\n",
       "      <td>4.4</td>\n",
       "      <td>$34.99</td>\n",
       "    </tr>\n",
       "    <tr>\n",
       "      <th>4</th>\n",
       "      <td>42057</td>\n",
       "      <td>8.0</td>\n",
       "      <td>14.0</td>\n",
       "      <td>1</td>\n",
       "      <td>Ultralight Helicopter</td>\n",
       "      <td>Take to the skies with the Ultralight Helicopter!</td>\n",
       "      <td>Technic</td>\n",
       "      <td>199</td>\n",
       "      <td>9.0</td>\n",
       "      <td>4.7</td>\n",
       "      <td>$19.99</td>\n",
       "    </tr>\n",
       "  </tbody>\n",
       "</table>\n",
       "</div>"
      ],
      "text/plain": [
       "  Prod Id Min Age Max Age Difficulty Level                   Set Name  \\\n",
       "0   60123     7.0    12.0                1  Volcano Supply Helicopter   \n",
       "1   71246     7.0    14.0                1  Adventure Time™ Team Pack   \n",
       "2   10616     1.5     5.0                1         My First Playhouse   \n",
       "3   31079     8.0    12.0                1        Sunshine Surfer Van   \n",
       "4   42057     8.0    14.0                1      Ultralight Helicopter   \n",
       "\n",
       "                                           Prod Desc      Theme Name  \\\n",
       "0  Fly in the exploration gear and fly out the cr...            City   \n",
       "1  Explore the Land of Ooo with Jake and Lumpy Sp...     DIMENSIONS™   \n",
       "2  Learn about daily routines with this easy-to-b...          DUPLO®   \n",
       "3  Enjoy seaside fun with the 3-in-1 Sunshine Sur...  Creator 3-in-1   \n",
       "4  Take to the skies with the Ultralight Helicopter!         Technic   \n",
       "\n",
       "  Piece Count Num Reviews Star Rating List Price  \n",
       "0         330         3.0         4.3     $49.99  \n",
       "1          96         3.0         4.7    $30.362  \n",
       "2          25         3.0         5.0     $19.99  \n",
       "3         379         5.0         4.4     $34.99  \n",
       "4         199         9.0         4.7     $19.99  "
      ]
     },
     "execution_count": 152,
     "metadata": {},
     "output_type": "execute_result"
    }
   ],
   "source": [
    "# Replace None with your code\n",
    "df.head() #displaying the first five rows of data"
   ]
  },
  {
   "cell_type": "markdown",
   "metadata": {
    "index": 11
   },
   "source": [
    "\n"
   ]
  },
  {
   "cell_type": "markdown",
   "metadata": {
    "index": 12
   },
   "source": [
    "Produce high-level descriptive information about your training data"
   ]
  },
  {
   "cell_type": "code",
   "execution_count": 153,
   "metadata": {
    "index": 13
   },
   "outputs": [
    {
     "name": "stdout",
     "output_type": "stream",
     "text": [
      "<class 'pandas.core.frame.DataFrame'>\n",
      "RangeIndex: 884 entries, 0 to 883\n",
      "Data columns (total 11 columns):\n",
      " #   Column            Non-Null Count  Dtype \n",
      "---  ------            --------------  ----- \n",
      " 0   Prod Id           884 non-null    object\n",
      " 1   Min Age           884 non-null    object\n",
      " 2   Max Age           884 non-null    object\n",
      " 3   Difficulty Level  884 non-null    object\n",
      " 4   Set Name          884 non-null    object\n",
      " 5   Prod Desc         864 non-null    object\n",
      " 6   Theme Name        884 non-null    object\n",
      " 7   Piece Count       884 non-null    object\n",
      " 8   Num Reviews       781 non-null    object\n",
      " 9   Star Rating       781 non-null    object\n",
      " 10  List Price        844 non-null    object\n",
      "dtypes: object(11)\n",
      "memory usage: 76.1+ KB\n"
     ]
    }
   ],
   "source": [
    "# Replace None with your code\n",
    "df.info() #high-level descriptive info about the training data\n",
    "#we can see that we have some null values in some of the columns"
   ]
  },
  {
   "cell_type": "markdown",
   "metadata": {
    "index": 15
   },
   "source": [
    "Display the number of null values for each column"
   ]
  },
  {
   "cell_type": "code",
   "execution_count": 154,
   "metadata": {
    "index": 16
   },
   "outputs": [
    {
     "data": {
      "text/plain": [
       "Prod Id               0\n",
       "Min Age               0\n",
       "Max Age               0\n",
       "Difficulty Level      0\n",
       "Set Name              0\n",
       "Prod Desc            20\n",
       "Theme Name            0\n",
       "Piece Count           0\n",
       "Num Reviews         103\n",
       "Star Rating         103\n",
       "List Price           40\n",
       "dtype: int64"
      ]
     },
     "execution_count": 154,
     "metadata": {},
     "output_type": "execute_result"
    }
   ],
   "source": [
    "# Replace None with your code\n",
    "df.isnull().sum() #number of null values in each of the columns"
   ]
  },
  {
   "cell_type": "markdown",
   "metadata": {
    "index": 18
   },
   "source": [
    "You have four columns that contain null values. Of those four, `List Price`, which is your dependent variable, is probably the most concerning. \n",
    "\n",
    "In the cell below, drop all rows where `List Price` is null."
   ]
  },
  {
   "cell_type": "markdown",
   "metadata": {},
   "source": [
    "LIST PRICE IS THE DEPENDENT VARIABLE"
   ]
  },
  {
   "cell_type": "code",
   "execution_count": 155,
   "metadata": {
    "index": 19
   },
   "outputs": [
    {
     "data": {
      "text/plain": [
       "Prod Id              0\n",
       "Min Age              0\n",
       "Max Age              0\n",
       "Difficulty Level     0\n",
       "Set Name             0\n",
       "Prod Desc           20\n",
       "Theme Name           0\n",
       "Piece Count          0\n",
       "Num Reviews         95\n",
       "Star Rating         95\n",
       "List Price           0\n",
       "dtype: int64"
      ]
     },
     "execution_count": 155,
     "metadata": {},
     "output_type": "execute_result"
    }
   ],
   "source": [
    "# Replace None with your code\n",
    "df = df.dropna(subset=['List Price']) #dropping the rows with null values in the list price column\n",
    "df.isnull().sum() #now we can see the list price column no longer has any null values"
   ]
  },
  {
   "cell_type": "markdown",
   "metadata": {
    "index": 21
   },
   "source": [
    "To make things easier moving forward, in the cell below, reformat the column names so spaces have been replaced with underscores and the text has been lowered"
   ]
  },
  {
   "cell_type": "code",
   "execution_count": 156,
   "metadata": {
    "index": 22
   },
   "outputs": [
    {
     "data": {
      "text/html": [
       "<div>\n",
       "<style scoped>\n",
       "    .dataframe tbody tr th:only-of-type {\n",
       "        vertical-align: middle;\n",
       "    }\n",
       "\n",
       "    .dataframe tbody tr th {\n",
       "        vertical-align: top;\n",
       "    }\n",
       "\n",
       "    .dataframe thead th {\n",
       "        text-align: right;\n",
       "    }\n",
       "</style>\n",
       "<table border=\"1\" class=\"dataframe\">\n",
       "  <thead>\n",
       "    <tr style=\"text-align: right;\">\n",
       "      <th></th>\n",
       "      <th>prod_id</th>\n",
       "      <th>min_age</th>\n",
       "      <th>max_age</th>\n",
       "      <th>difficulty_level</th>\n",
       "      <th>set_name</th>\n",
       "      <th>prod_desc</th>\n",
       "      <th>theme_name</th>\n",
       "      <th>piece_count</th>\n",
       "      <th>num_reviews</th>\n",
       "      <th>star_rating</th>\n",
       "      <th>list_price</th>\n",
       "    </tr>\n",
       "  </thead>\n",
       "  <tbody>\n",
       "    <tr>\n",
       "      <th>0</th>\n",
       "      <td>60123</td>\n",
       "      <td>7.0</td>\n",
       "      <td>12.0</td>\n",
       "      <td>1</td>\n",
       "      <td>Volcano Supply Helicopter</td>\n",
       "      <td>Fly in the exploration gear and fly out the cr...</td>\n",
       "      <td>City</td>\n",
       "      <td>330</td>\n",
       "      <td>3.0</td>\n",
       "      <td>4.3</td>\n",
       "      <td>$49.99</td>\n",
       "    </tr>\n",
       "    <tr>\n",
       "      <th>1</th>\n",
       "      <td>71246</td>\n",
       "      <td>7.0</td>\n",
       "      <td>14.0</td>\n",
       "      <td>1</td>\n",
       "      <td>Adventure Time™ Team Pack</td>\n",
       "      <td>Explore the Land of Ooo with Jake and Lumpy Sp...</td>\n",
       "      <td>DIMENSIONS™</td>\n",
       "      <td>96</td>\n",
       "      <td>3.0</td>\n",
       "      <td>4.7</td>\n",
       "      <td>$30.362</td>\n",
       "    </tr>\n",
       "    <tr>\n",
       "      <th>2</th>\n",
       "      <td>10616</td>\n",
       "      <td>1.5</td>\n",
       "      <td>5.0</td>\n",
       "      <td>1</td>\n",
       "      <td>My First Playhouse</td>\n",
       "      <td>Learn about daily routines with this easy-to-b...</td>\n",
       "      <td>DUPLO®</td>\n",
       "      <td>25</td>\n",
       "      <td>3.0</td>\n",
       "      <td>5.0</td>\n",
       "      <td>$19.99</td>\n",
       "    </tr>\n",
       "    <tr>\n",
       "      <th>3</th>\n",
       "      <td>31079</td>\n",
       "      <td>8.0</td>\n",
       "      <td>12.0</td>\n",
       "      <td>1</td>\n",
       "      <td>Sunshine Surfer Van</td>\n",
       "      <td>Enjoy seaside fun with the 3-in-1 Sunshine Sur...</td>\n",
       "      <td>Creator 3-in-1</td>\n",
       "      <td>379</td>\n",
       "      <td>5.0</td>\n",
       "      <td>4.4</td>\n",
       "      <td>$34.99</td>\n",
       "    </tr>\n",
       "    <tr>\n",
       "      <th>4</th>\n",
       "      <td>42057</td>\n",
       "      <td>8.0</td>\n",
       "      <td>14.0</td>\n",
       "      <td>1</td>\n",
       "      <td>Ultralight Helicopter</td>\n",
       "      <td>Take to the skies with the Ultralight Helicopter!</td>\n",
       "      <td>Technic</td>\n",
       "      <td>199</td>\n",
       "      <td>9.0</td>\n",
       "      <td>4.7</td>\n",
       "      <td>$19.99</td>\n",
       "    </tr>\n",
       "    <tr>\n",
       "      <th>...</th>\n",
       "      <td>...</td>\n",
       "      <td>...</td>\n",
       "      <td>...</td>\n",
       "      <td>...</td>\n",
       "      <td>...</td>\n",
       "      <td>...</td>\n",
       "      <td>...</td>\n",
       "      <td>...</td>\n",
       "      <td>...</td>\n",
       "      <td>...</td>\n",
       "      <td>...</td>\n",
       "    </tr>\n",
       "    <tr>\n",
       "      <th>877</th>\n",
       "      <td>60146</td>\n",
       "      <td>5.0</td>\n",
       "      <td>12.0</td>\n",
       "      <td>1</td>\n",
       "      <td>Stunt Truck</td>\n",
       "      <td>Strap in and jump some ramps!</td>\n",
       "      <td>City</td>\n",
       "      <td>91</td>\n",
       "      <td>8.0</td>\n",
       "      <td>4.8</td>\n",
       "      <td>$9.99</td>\n",
       "    </tr>\n",
       "    <tr>\n",
       "      <th>878</th>\n",
       "      <td>60146</td>\n",
       "      <td>5.0</td>\n",
       "      <td>12.0</td>\n",
       "      <td>1</td>\n",
       "      <td>Stunt Truck</td>\n",
       "      <td>Strap in and jump some ramps!</td>\n",
       "      <td>City</td>\n",
       "      <td>91</td>\n",
       "      <td>8.0</td>\n",
       "      <td>4.8</td>\n",
       "      <td>$9.99</td>\n",
       "    </tr>\n",
       "    <tr>\n",
       "      <th>879</th>\n",
       "      <td>60146</td>\n",
       "      <td>5.0</td>\n",
       "      <td>12.0</td>\n",
       "      <td>1</td>\n",
       "      <td>Stunt Truck</td>\n",
       "      <td>Strap in and jump some ramps!</td>\n",
       "      <td>City</td>\n",
       "      <td>91</td>\n",
       "      <td>8.0</td>\n",
       "      <td>4.8</td>\n",
       "      <td>$9.99</td>\n",
       "    </tr>\n",
       "    <tr>\n",
       "      <th>880</th>\n",
       "      <td>70313</td>\n",
       "      <td>8.0</td>\n",
       "      <td>14.0</td>\n",
       "      <td>2</td>\n",
       "      <td>Moltor’s Lava Smasher</td>\n",
       "      <td>Smash Aaron Fox out of the way and capture the...</td>\n",
       "      <td>NEXO KNIGHTS™</td>\n",
       "      <td>187</td>\n",
       "      <td>3.0</td>\n",
       "      <td>4.7</td>\n",
       "      <td>$19.99</td>\n",
       "    </tr>\n",
       "    <tr>\n",
       "      <th>882</th>\n",
       "      <td>70313</td>\n",
       "      <td>8.0</td>\n",
       "      <td>14.0</td>\n",
       "      <td>2</td>\n",
       "      <td>Moltor’s Lava Smasher</td>\n",
       "      <td>Smash Aaron Fox out of the way and capture the...</td>\n",
       "      <td>NEXO KNIGHTS™</td>\n",
       "      <td>187</td>\n",
       "      <td>3.0</td>\n",
       "      <td>4.7</td>\n",
       "      <td>$19.99</td>\n",
       "    </tr>\n",
       "  </tbody>\n",
       "</table>\n",
       "<p>844 rows × 11 columns</p>\n",
       "</div>"
      ],
      "text/plain": [
       "    prod_id min_age max_age difficulty_level                   set_name  \\\n",
       "0     60123     7.0    12.0                1  Volcano Supply Helicopter   \n",
       "1     71246     7.0    14.0                1  Adventure Time™ Team Pack   \n",
       "2     10616     1.5     5.0                1         My First Playhouse   \n",
       "3     31079     8.0    12.0                1        Sunshine Surfer Van   \n",
       "4     42057     8.0    14.0                1      Ultralight Helicopter   \n",
       "..      ...     ...     ...              ...                        ...   \n",
       "877   60146     5.0    12.0                1                Stunt Truck   \n",
       "878   60146     5.0    12.0                1                Stunt Truck   \n",
       "879   60146     5.0    12.0                1                Stunt Truck   \n",
       "880   70313     8.0    14.0                2      Moltor’s Lava Smasher   \n",
       "882   70313     8.0    14.0                2      Moltor’s Lava Smasher   \n",
       "\n",
       "                                             prod_desc      theme_name  \\\n",
       "0    Fly in the exploration gear and fly out the cr...            City   \n",
       "1    Explore the Land of Ooo with Jake and Lumpy Sp...     DIMENSIONS™   \n",
       "2    Learn about daily routines with this easy-to-b...          DUPLO®   \n",
       "3    Enjoy seaside fun with the 3-in-1 Sunshine Sur...  Creator 3-in-1   \n",
       "4    Take to the skies with the Ultralight Helicopter!         Technic   \n",
       "..                                                 ...             ...   \n",
       "877                      Strap in and jump some ramps!            City   \n",
       "878                      Strap in and jump some ramps!            City   \n",
       "879                      Strap in and jump some ramps!            City   \n",
       "880  Smash Aaron Fox out of the way and capture the...   NEXO KNIGHTS™   \n",
       "882  Smash Aaron Fox out of the way and capture the...   NEXO KNIGHTS™   \n",
       "\n",
       "    piece_count num_reviews star_rating list_price  \n",
       "0           330         3.0         4.3     $49.99  \n",
       "1            96         3.0         4.7    $30.362  \n",
       "2            25         3.0         5.0     $19.99  \n",
       "3           379         5.0         4.4     $34.99  \n",
       "4           199         9.0         4.7     $19.99  \n",
       "..          ...         ...         ...        ...  \n",
       "877          91         8.0         4.8      $9.99  \n",
       "878          91         8.0         4.8      $9.99  \n",
       "879          91         8.0         4.8      $9.99  \n",
       "880         187         3.0         4.7     $19.99  \n",
       "882         187         3.0         4.7     $19.99  \n",
       "\n",
       "[844 rows x 11 columns]"
      ]
     },
     "metadata": {},
     "output_type": "display_data"
    },
    {
     "data": {
      "text/plain": [
       "(844, 11)"
      ]
     },
     "execution_count": 156,
     "metadata": {},
     "output_type": "execute_result"
    }
   ],
   "source": [
    "# Replace None with your code\n",
    "df = df.rename(\n",
    "    columns={\n",
    "        'Prod Id':'prod_id', \n",
    "        'Min Age': 'min_age', \n",
    "        'Max Age':'max_age', \n",
    "        'Difficulty Level':'difficulty_level',\n",
    "        'Set Name':'set_name',\n",
    "        'Prod Desc':'prod_desc',\n",
    "        'Theme Name':'theme_name',\n",
    "        'Piece Count':'piece_count',\n",
    "        'Num Reviews':'num_reviews',\n",
    "        'Star Rating':'star_rating',\n",
    "        'List Price':'list_price'\n",
    "    }\n",
    ")\n",
    "#rename the columns and then displaying the dataframe to double check\n",
    "display(df)\n",
    "df.shape"
   ]
  },
  {
   "cell_type": "markdown",
   "metadata": {
    "index": 24
   },
   "source": [
    "Run the cell below to check your reformatting. If it runs without throwing an error it means you have reformatted the columns correctly."
   ]
  },
  {
   "cell_type": "code",
   "execution_count": 157,
   "metadata": {
    "index": 25
   },
   "outputs": [],
   "source": [
    "assert 'min_age' in df.columns"
   ]
  },
  {
   "cell_type": "markdown",
   "metadata": {
    "index": 26
   },
   "source": [
    "Check the datatypes of the columns in the dataframe. \n",
    "> Remember, the target column and any columns you use as independent variables *must* have a numeric datatype. After inspecting the datatypes of the columns, convert columns to numeric where necessary. "
   ]
  },
  {
   "cell_type": "code",
   "execution_count": 158,
   "metadata": {},
   "outputs": [
    {
     "name": "stderr",
     "output_type": "stream",
     "text": [
      "/tmp/ipykernel_66/1951570397.py:2: FutureWarning: The default value of regex will change from True to False in a future version. In addition, single character regular expressions will *not* be treated as literal strings when regex=True.\n",
      "  df['list_price'] = df['list_price'].str.replace('$',' ')\n"
     ]
    }
   ],
   "source": [
    "#removing the $ sign from the list price in order to convert the dtype to float\n",
    "df['list_price'] = df['list_price'].str.replace('$',' ') "
   ]
  },
  {
   "cell_type": "code",
   "execution_count": 159,
   "metadata": {
    "index": 27
   },
   "outputs": [
    {
     "name": "stdout",
     "output_type": "stream",
     "text": [
      "<class 'pandas.core.frame.DataFrame'>\n",
      "Int64Index: 844 entries, 0 to 882\n",
      "Data columns (total 11 columns):\n",
      " #   Column            Non-Null Count  Dtype  \n",
      "---  ------            --------------  -----  \n",
      " 0   prod_id           844 non-null    int64  \n",
      " 1   min_age           844 non-null    int64  \n",
      " 2   max_age           844 non-null    int64  \n",
      " 3   difficulty_level  844 non-null    int64  \n",
      " 4   set_name          844 non-null    object \n",
      " 5   prod_desc         824 non-null    object \n",
      " 6   theme_name        844 non-null    object \n",
      " 7   piece_count       844 non-null    int64  \n",
      " 8   num_reviews       749 non-null    float64\n",
      " 9   star_rating       749 non-null    float64\n",
      " 10  list_price        844 non-null    float64\n",
      "dtypes: float64(3), int64(5), object(3)\n",
      "memory usage: 79.1+ KB\n"
     ]
    }
   ],
   "source": [
    "# Replace None with your code\n",
    "#we can see that all the columns have the object data type\n",
    "#we want to convert the target column and columns with independent variables to a numeric datatype\n",
    "#those are the list_price and atrribute columns (prod_id,min_age,max_age,difficulty_level,piece_count,num_reviews,star_rating)\n",
    "df=df.astype({\n",
    "    'prod_id':int,\n",
    "    'min_age':int,\n",
    "    'max_age':int,\n",
    "    'difficulty_level':int,\n",
    "    'piece_count':int,\n",
    "    'num_reviews':float,\n",
    "    'star_rating':float,\n",
    "    'list_price':float\n",
    "})\n",
    "\n",
    "df.info() #double checking that the datatypes were converted as intended"
   ]
  },
  {
   "cell_type": "markdown",
   "metadata": {
    "index": 29
   },
   "source": [
    "In the cell below, output the number of duplicate rows in the dataframe. If duplicates are found, drop them."
   ]
  },
  {
   "cell_type": "code",
   "execution_count": 160,
   "metadata": {
    "index": 30
   },
   "outputs": [
    {
     "name": "stdout",
     "output_type": "stream",
     "text": [
      "100\n"
     ]
    },
    {
     "data": {
      "text/plain": [
       "(744, 11)"
      ]
     },
     "execution_count": 160,
     "metadata": {},
     "output_type": "execute_result"
    }
   ],
   "source": [
    "# Replace None with your code\n",
    "print(df.duplicated().sum()) #counting the number of duplicate rows in the dataframe\n",
    "df = df.drop_duplicates() #dropping the duplicates\n",
    "df.shape #we can see that the dataframe has 100 less rows after deleting the duplicates"
   ]
  },
  {
   "cell_type": "markdown",
   "metadata": {
    "index": 32
   },
   "source": [
    "Visualize the distribution of the dependent variable"
   ]
  },
  {
   "cell_type": "code",
   "execution_count": 161,
   "metadata": {
    "index": 33
   },
   "outputs": [
    {
     "data": {
      "image/png": "[encoded data removed]",
      "text/plain": [
       "<Figure size 432x288 with 1 Axes>"
      ]
     },
     "metadata": {
      "needs_background": "light"
     },
     "output_type": "display_data"
    }
   ],
   "source": [
    "# Replace None with your code\n",
    "list_price_dist = df['list_price'].plot(kind='hist',title = 'List Price Distribution')\n",
    "plt.legend();\n",
    "plt.show()"
   ]
  },
  {
   "cell_type": "markdown",
   "metadata": {
    "index": 35
   },
   "source": [
    "# Create a Baseline Model\n",
    "\n",
    "Below, create a baseline model. \n",
    "\n",
    "To do this you must:\n",
    "\n",
    "1. Calculate the mean of the `list_price` column in the `train` dataframe.\n",
    "2. Now that you've calculate the mean of `list_price`, create a list with the same length as the `list_price` column where every value in the list is the calculated mean.\n",
    "    - Store this list in the variable `baseline_preds`."
   ]
  },
  {
   "cell_type": "code",
   "execution_count": 162,
   "metadata": {},
   "outputs": [
    {
     "data": {
      "text/html": [
       "<div>\n",
       "<style scoped>\n",
       "    .dataframe tbody tr th:only-of-type {\n",
       "        vertical-align: middle;\n",
       "    }\n",
       "\n",
       "    .dataframe tbody tr th {\n",
       "        vertical-align: top;\n",
       "    }\n",
       "\n",
       "    .dataframe thead th {\n",
       "        text-align: right;\n",
       "    }\n",
       "</style>\n",
       "<table border=\"1\" class=\"dataframe\">\n",
       "  <thead>\n",
       "    <tr style=\"text-align: right;\">\n",
       "      <th></th>\n",
       "      <th>prod_id</th>\n",
       "      <th>min_age</th>\n",
       "      <th>max_age</th>\n",
       "      <th>difficulty_level</th>\n",
       "      <th>piece_count</th>\n",
       "      <th>num_reviews</th>\n",
       "      <th>star_rating</th>\n",
       "      <th>list_price</th>\n",
       "    </tr>\n",
       "  </thead>\n",
       "  <tbody>\n",
       "    <tr>\n",
       "      <th>0</th>\n",
       "      <td>60123</td>\n",
       "      <td>7</td>\n",
       "      <td>12</td>\n",
       "      <td>1</td>\n",
       "      <td>330</td>\n",
       "      <td>3.0</td>\n",
       "      <td>4.3</td>\n",
       "      <td>49.990</td>\n",
       "    </tr>\n",
       "    <tr>\n",
       "      <th>1</th>\n",
       "      <td>71246</td>\n",
       "      <td>7</td>\n",
       "      <td>14</td>\n",
       "      <td>1</td>\n",
       "      <td>96</td>\n",
       "      <td>3.0</td>\n",
       "      <td>4.7</td>\n",
       "      <td>30.362</td>\n",
       "    </tr>\n",
       "    <tr>\n",
       "      <th>2</th>\n",
       "      <td>10616</td>\n",
       "      <td>1</td>\n",
       "      <td>5</td>\n",
       "      <td>1</td>\n",
       "      <td>25</td>\n",
       "      <td>3.0</td>\n",
       "      <td>5.0</td>\n",
       "      <td>19.990</td>\n",
       "    </tr>\n",
       "    <tr>\n",
       "      <th>3</th>\n",
       "      <td>31079</td>\n",
       "      <td>8</td>\n",
       "      <td>12</td>\n",
       "      <td>1</td>\n",
       "      <td>379</td>\n",
       "      <td>5.0</td>\n",
       "      <td>4.4</td>\n",
       "      <td>34.990</td>\n",
       "    </tr>\n",
       "    <tr>\n",
       "      <th>4</th>\n",
       "      <td>42057</td>\n",
       "      <td>8</td>\n",
       "      <td>14</td>\n",
       "      <td>1</td>\n",
       "      <td>199</td>\n",
       "      <td>9.0</td>\n",
       "      <td>4.7</td>\n",
       "      <td>19.990</td>\n",
       "    </tr>\n",
       "    <tr>\n",
       "      <th>...</th>\n",
       "      <td>...</td>\n",
       "      <td>...</td>\n",
       "      <td>...</td>\n",
       "      <td>...</td>\n",
       "      <td>...</td>\n",
       "      <td>...</td>\n",
       "      <td>...</td>\n",
       "      <td>...</td>\n",
       "    </tr>\n",
       "    <tr>\n",
       "      <th>799</th>\n",
       "      <td>70921</td>\n",
       "      <td>7</td>\n",
       "      <td>14</td>\n",
       "      <td>2</td>\n",
       "      <td>425</td>\n",
       "      <td>5.0</td>\n",
       "      <td>3.2</td>\n",
       "      <td>49.990</td>\n",
       "    </tr>\n",
       "    <tr>\n",
       "      <th>800</th>\n",
       "      <td>41601</td>\n",
       "      <td>10</td>\n",
       "      <td>99</td>\n",
       "      <td>1</td>\n",
       "      <td>108</td>\n",
       "      <td>2.0</td>\n",
       "      <td>5.0</td>\n",
       "      <td>9.990</td>\n",
       "    </tr>\n",
       "    <tr>\n",
       "      <th>801</th>\n",
       "      <td>60108</td>\n",
       "      <td>5</td>\n",
       "      <td>12</td>\n",
       "      <td>2</td>\n",
       "      <td>257</td>\n",
       "      <td>8.0</td>\n",
       "      <td>3.9</td>\n",
       "      <td>39.990</td>\n",
       "    </tr>\n",
       "    <tr>\n",
       "      <th>802</th>\n",
       "      <td>10736</td>\n",
       "      <td>4</td>\n",
       "      <td>7</td>\n",
       "      <td>2</td>\n",
       "      <td>94</td>\n",
       "      <td>3.0</td>\n",
       "      <td>4.7</td>\n",
       "      <td>24.990</td>\n",
       "    </tr>\n",
       "    <tr>\n",
       "      <th>803</th>\n",
       "      <td>41147</td>\n",
       "      <td>5</td>\n",
       "      <td>12</td>\n",
       "      <td>1</td>\n",
       "      <td>153</td>\n",
       "      <td>2.0</td>\n",
       "      <td>5.0</td>\n",
       "      <td>19.990</td>\n",
       "    </tr>\n",
       "  </tbody>\n",
       "</table>\n",
       "<p>744 rows × 8 columns</p>\n",
       "</div>"
      ],
      "text/plain": [
       "     prod_id  min_age  max_age  difficulty_level  piece_count  num_reviews  \\\n",
       "0      60123        7       12                 1          330          3.0   \n",
       "1      71246        7       14                 1           96          3.0   \n",
       "2      10616        1        5                 1           25          3.0   \n",
       "3      31079        8       12                 1          379          5.0   \n",
       "4      42057        8       14                 1          199          9.0   \n",
       "..       ...      ...      ...               ...          ...          ...   \n",
       "799    70921        7       14                 2          425          5.0   \n",
       "800    41601       10       99                 1          108          2.0   \n",
       "801    60108        5       12                 2          257          8.0   \n",
       "802    10736        4        7                 2           94          3.0   \n",
       "803    41147        5       12                 1          153          2.0   \n",
       "\n",
       "     star_rating  list_price  \n",
       "0            4.3      49.990  \n",
       "1            4.7      30.362  \n",
       "2            5.0      19.990  \n",
       "3            4.4      34.990  \n",
       "4            4.7      19.990  \n",
       "..           ...         ...  \n",
       "799          3.2      49.990  \n",
       "800          5.0       9.990  \n",
       "801          3.9      39.990  \n",
       "802          4.7      24.990  \n",
       "803          5.0      19.990  \n",
       "\n",
       "[744 rows x 8 columns]"
      ]
     },
     "execution_count": 162,
     "metadata": {},
     "output_type": "execute_result"
    }
   ],
   "source": [
    "train = df.copy()\n",
    "train = train.drop(['prod_desc','set_name','theme_name'],axis=1)\n",
    "num_rows_list_price = len(train['list_price']) #the list price column has 744 rows\n",
    "train"
   ]
  },
  {
   "cell_type": "code",
   "execution_count": 163,
   "metadata": {
    "index": 36
   },
   "outputs": [
    {
     "name": "stdout",
     "output_type": "stream",
     "text": [
      "The list_price column has 744 rows.\n",
      "The baseline_preds list has 744 rows.\n",
      "Both have the same number of rows.\n",
      "The mean value of the list_price column is 49.00058198924769\n"
     ]
    }
   ],
   "source": [
    "# Calculate the mean of the list_price column in the train dataframe.\n",
    "mean = train['list_price'].mean()\n",
    "\n",
    "# Create a list with the same length as the list_price column \n",
    "# where every value in the list is the calculated mean.\n",
    "baseline_preds = [] #creating an empty list\n",
    "for value in range(num_rows_list_price):\n",
    "    baseline_preds.append(mean) #appending the mean to the list till the length of the list reaches a value equal to\n",
    "    #the length of the list_price column\n",
    "print('The list_price column has',num_rows_list_price,'rows.')\n",
    "print('The baseline_preds list has',len(baseline_preds),'rows.')\n",
    "print('Both have the same number of rows.')\n",
    "print('The mean value of the list_price column is',mean)"
   ]
  },
  {
   "cell_type": "markdown",
   "metadata": {
    "index": 38
   },
   "source": [
    "Now that you have baseline predictions, you can use the predictions to calculate metrics about the model's performance. "
   ]
  },
  {
   "cell_type": "code",
   "execution_count": 164,
   "metadata": {
    "index": 39
   },
   "outputs": [
    {
     "name": "stdout",
     "output_type": "stream",
     "text": [
      "Baseline R^2:  0.0\n",
      "Baseline RMSE: 73.60214730890442\n"
     ]
    }
   ],
   "source": [
    "from sklearn.metrics import r2_score, mean_squared_error\n",
    "\n",
    "# Pass the list_price column and the baseline_preds list into the function r2_score\n",
    "baseline_r2 = r2_score(train.list_price, baseline_preds)\n",
    "\n",
    "# Pass the list_price column and the baseline_preds list \n",
    "# into the function mean_squared_error and setting squared to False\n",
    "baseline_rmse = mean_squared_error(train.list_price, baseline_preds, squared=False)\n",
    "\n",
    "print('Baseline R^2: ', baseline_r2)\n",
    "print('Baseline RMSE:', baseline_rmse)"
   ]
  },
  {
   "cell_type": "markdown",
   "metadata": {
    "index": 40
   },
   "source": [
    "**Interpret the resulting metrics for the baseline model.**\n",
    "\n",
    "- How is the model explaining the variance of the dependent variable?\n",
    "- On average, how many dollars off are the models predictions?"
   ]
  },
  {
   "cell_type": "markdown",
   "metadata": {
    "index": "Placeholder"
   },
   "source": [
    "The results of the baseline model show an R^2 value of zero and a Baseline RMSE (root mean square error) of around 73.6.\n",
    "\n",
    "- By definition, the variance of the dependent variable is the average of its squared deviations from its mean value.\n",
    "- The baseline model relies on the simple and constant mean value of the list_price column to explain the variance of the list price dependent variable. \n",
    "- We are still not incorporating any independent variables and studying their effect on the values of the dependent variable.\n",
    "- The R squared value of zero indicates that no proportion of the variance can be explained by an independent variable.\n",
    "- The model explains the variance of the dependent variable by simply examining how much it deviates from its mean value."
   ]
  },
  {
   "cell_type": "markdown",
   "metadata": {
    "index": 42
   },
   "source": [
    "# 2. Interpret a Correlation Heatmap to Build a Baseline Model\n",
    "\n",
    "## Correlation Heatmap\n",
    "\n",
    "Produce a heatmap showing the correlations between all of the numeric values in the data. The x and y axis labels should indicate the pair of values that are being compared, and then the color and the number should represent the correlation. \n",
    "\n",
    "The most important column or row shows the correlations betyouen the target (listing price) and other attributes."
   ]
  },
  {
   "cell_type": "code",
   "execution_count": 165,
   "metadata": {
    "index": 43
   },
   "outputs": [],
   "source": [
    "# Run this cell without changes\n",
    "\n",
    "import seaborn as sns\n",
    "import numpy as np"
   ]
  },
  {
   "cell_type": "code",
   "execution_count": 166,
   "metadata": {
    "index": 45
   },
   "outputs": [
    {
     "data": {
      "image/png": "[encoded data removed]",
      "text/plain": [
       "<Figure size 432x288 with 2 Axes>"
      ]
     },
     "metadata": {
      "needs_background": "light"
     },
     "output_type": "display_data"
    }
   ],
   "source": [
    "# Replace None with your code\n",
    "\n",
    "corr_heatmap = sns.heatmap(train.corr()) #creating the heatmap\n",
    "plt.show(corr_heatmap)"
   ]
  },
  {
   "cell_type": "markdown",
   "metadata": {
    "index": 47
   },
   "source": [
    "Based on the heatmap, which feature is most strongly correlated with the target (`list_price`)? In other words, which feature has the strongest positive or negative correlation — the correlation with the greatest magnitude?\n",
    "\n",
    "Answer: \n",
    "Based on the heatmap and color scale, the feature that is most strongly correlated with the target (dependent variable) i.e. list_price is piece_count.\n",
    "piece_count has the strongest positive correlation with a value of around 0.9"
   ]
  },
  {
   "cell_type": "code",
   "execution_count": 167,
   "metadata": {
    "index": 48
   },
   "outputs": [],
   "source": [
    "# Replace None with the name of the feature (a string)\n",
    "\n",
    "most_correlated_feature = 'piece_count'"
   ]
  },
  {
   "cell_type": "markdown",
   "metadata": {
    "index": 50
   },
   "source": [
    "Create a scatter plot of that feature vs. listing price:"
   ]
  },
  {
   "cell_type": "code",
   "execution_count": 168,
   "metadata": {
    "index": 51,
    "scrolled": true
   },
   "outputs": [
    {
     "data": {
      "image/png": "[encoded data removed]",
      "text/plain": [
       "<Figure size 432x288 with 1 Axes>"
      ]
     },
     "metadata": {
      "needs_background": "light"
     },
     "output_type": "display_data"
    }
   ],
   "source": [
    "# Replace None with your code\n",
    "\n",
    "#creating the scatter plot for list_price vs piece_count (Y~X) and adding a title as well as x/y labels\n",
    "scatter_piece_count = plt.scatter(train['piece_count'],train['list_price'])\n",
    "plt.xlabel('piece_count')\n",
    "plt.ylabel('list_price')\n",
    "plt.title('Scatter Plot - list_price vs piece_count')\n",
    "plt.show();"
   ]
  },
  {
   "cell_type": "markdown",
   "metadata": {
    "index": 53
   },
   "source": [
    "Assuming you correctly identified `piece_count` (the number of pieces in the LEGO set) as the most correlated feature, you should have a scatter plot that shows a fairly clear linear relationship betyouen that feature and the target. It looks like you are ready to proceed with creating a simple linear regression model."
   ]
  },
  {
   "cell_type": "markdown",
   "metadata": {
    "index": 54
   },
   "source": [
    "# 3. Build a Simple Linear Regression Model\n",
    "\n",
    "Now, you'll build a linear regression model using just that feature. \n",
    "\n",
    "In the cell below, fit a statsmodels linear regression model to the data and output a summary for the model. "
   ]
  },
  {
   "cell_type": "code",
   "execution_count": 169,
   "metadata": {
    "index": 55
   },
   "outputs": [
    {
     "data": {
      "text/html": [
       "<table class=\"simpletable\">\n",
       "<caption>OLS Regression Results</caption>\n",
       "<tr>\n",
       "  <th>Dep. Variable:</th>       <td>list_price</td>    <th>  R-squared:         </th> <td>   0.743</td> \n",
       "</tr>\n",
       "<tr>\n",
       "  <th>Model:</th>                   <td>OLS</td>       <th>  Adj. R-squared:    </th> <td>   0.742</td> \n",
       "</tr>\n",
       "<tr>\n",
       "  <th>Method:</th>             <td>Least Squares</td>  <th>  F-statistic:       </th> <td>   2141.</td> \n",
       "</tr>\n",
       "<tr>\n",
       "  <th>Date:</th>             <td>Sat, 19 Feb 2022</td> <th>  Prob (F-statistic):</th> <td>6.91e-221</td>\n",
       "</tr>\n",
       "<tr>\n",
       "  <th>Time:</th>                 <td>13:00:26</td>     <th>  Log-Likelihood:    </th> <td> -3749.0</td> \n",
       "</tr>\n",
       "<tr>\n",
       "  <th>No. Observations:</th>      <td>   744</td>      <th>  AIC:               </th> <td>   7502.</td> \n",
       "</tr>\n",
       "<tr>\n",
       "  <th>Df Residuals:</th>          <td>   742</td>      <th>  BIC:               </th> <td>   7511.</td> \n",
       "</tr>\n",
       "<tr>\n",
       "  <th>Df Model:</th>              <td>     1</td>      <th>                     </th>     <td> </td>    \n",
       "</tr>\n",
       "<tr>\n",
       "  <th>Covariance Type:</th>      <td>nonrobust</td>    <th>                     </th>     <td> </td>    \n",
       "</tr>\n",
       "</table>\n",
       "<table class=\"simpletable\">\n",
       "<tr>\n",
       "       <td></td>          <th>coef</th>     <th>std err</th>      <th>t</th>      <th>P>|t|</th>  <th>[0.025</th>    <th>0.975]</th>  \n",
       "</tr>\n",
       "<tr>\n",
       "  <th>Intercept</th>   <td>   11.4565</td> <td>    1.593</td> <td>    7.192</td> <td> 0.000</td> <td>    8.329</td> <td>   14.584</td>\n",
       "</tr>\n",
       "<tr>\n",
       "  <th>piece_count</th> <td>    0.0875</td> <td>    0.002</td> <td>   46.273</td> <td> 0.000</td> <td>    0.084</td> <td>    0.091</td>\n",
       "</tr>\n",
       "</table>\n",
       "<table class=\"simpletable\">\n",
       "<tr>\n",
       "  <th>Omnibus:</th>       <td>1141.526</td> <th>  Durbin-Watson:     </th>  <td>   1.961</td> \n",
       "</tr>\n",
       "<tr>\n",
       "  <th>Prob(Omnibus):</th>  <td> 0.000</td>  <th>  Jarque-Bera (JB):  </th> <td>464258.231</td>\n",
       "</tr>\n",
       "<tr>\n",
       "  <th>Skew:</th>           <td> 8.756</td>  <th>  Prob(JB):          </th>  <td>    0.00</td> \n",
       "</tr>\n",
       "<tr>\n",
       "  <th>Kurtosis:</th>       <td>124.117</td> <th>  Cond. No.          </th>  <td>    978.</td> \n",
       "</tr>\n",
       "</table><br/><br/>Notes:<br/>[1] Standard Errors assume that the covariance matrix of the errors is correctly specified."
      ],
      "text/plain": [
       "<class 'statsmodels.iolib.summary.Summary'>\n",
       "\"\"\"\n",
       "                            OLS Regression Results                            \n",
       "==============================================================================\n",
       "Dep. Variable:             list_price   R-squared:                       0.743\n",
       "Model:                            OLS   Adj. R-squared:                  0.742\n",
       "Method:                 Least Squares   F-statistic:                     2141.\n",
       "Date:                Sat, 19 Feb 2022   Prob (F-statistic):          6.91e-221\n",
       "Time:                        13:00:26   Log-Likelihood:                -3749.0\n",
       "No. Observations:                 744   AIC:                             7502.\n",
       "Df Residuals:                     742   BIC:                             7511.\n",
       "Df Model:                           1                                         \n",
       "Covariance Type:            nonrobust                                         \n",
       "===============================================================================\n",
       "                  coef    std err          t      P>|t|      [0.025      0.975]\n",
       "-------------------------------------------------------------------------------\n",
       "Intercept      11.4565      1.593      7.192      0.000       8.329      14.584\n",
       "piece_count     0.0875      0.002     46.273      0.000       0.084       0.091\n",
       "==============================================================================\n",
       "Omnibus:                     1141.526   Durbin-Watson:                   1.961\n",
       "Prob(Omnibus):                  0.000   Jarque-Bera (JB):           464258.231\n",
       "Skew:                           8.756   Prob(JB):                         0.00\n",
       "Kurtosis:                     124.117   Cond. No.                         978.\n",
       "==============================================================================\n",
       "\n",
       "Notes:\n",
       "[1] Standard Errors assume that the covariance matrix of the errors is correctly specified.\n",
       "\"\"\""
      ]
     },
     "execution_count": 169,
     "metadata": {},
     "output_type": "execute_result"
    }
   ],
   "source": [
    "import statsmodels.formula.api as smf\n",
    "from statsmodels.formula.api import ols\n",
    "# Replace None with your code\n",
    "f_piece_count = 'list_price ~ piece_count' #creating the formula for the regression model\n",
    "model = ols(formula = f_piece_count, data = train).fit() #fitting the model\n",
    "model.summary() #printing a summary of the model"
   ]
  },
  {
   "cell_type": "markdown",
   "metadata": {
    "index": 57
   },
   "source": [
    "# 4. Interpret the Simple Linear Regression Model"
   ]
  },
  {
   "cell_type": "markdown",
   "metadata": {
    "index": 58
   },
   "source": [
    "Now that the model has been fit, you should interpret the model parameters. \n",
    "\n",
    "Specifically:\n",
    "- What do the coefficients for the intercept and independent variable suggest about the dependent variable?\n",
    "- Are the coefficients found to be statistically significant?\n",
    "- What are the confidence intervals for the coefficients?\n",
    "- Do the relationships found by the model seem plausible? "
   ]
  },
  {
   "cell_type": "markdown",
   "metadata": {
    "index": "Placeholder"
   },
   "source": [
    "*YOUR ANSWER HERE*\n",
    "- Coefficient for the Intercept: is the expected mean value of the dependent variable (list_price) when the independent variable (piece_count) has a value of zero. In other words, it is the y-intercept of the linear regression equation. The model summary shows a value of 11.4565 for the coefficient of intercept which means that the expected list_price when the piece_count = 0 is 11.4565 USD. However, this is meaningless! The reason behind that is there is no puzzle sold with a piece_count of zero or else we wouldn't call it a puzzle. The intercept coefficient does not tell us anything about the dependent variable in this case so it is statistically insignificant.\n",
    "\n",
    "- Coefficient for the piece_count: is a coefficient that tells us by how much the dependent variable (list_price) will increase (if the coefficient is positive) or decrease (if the coefficient is negative) when the value of the independent variable increases by 1. The model summary shows a piece_count coefficient of 0.0875. This means that with every extra piece we have in the puzzle, the puzzle set would be 0.0875 USD more expensive. Alternatively, there is an 8.75 USD extra charge for every 100 additional pieces in the set.\n",
    "\n",
    "- The coefficient of the intercept is not statistically significant while the coefficient of the piece_count is. The latter gives us insight into how the number of pieces in the puzzle directly affects the price (more pieces means a higher manufacturing cost which means a higher price!).\n",
    "\n",
    "- We will ignore the other coefficients of the intercept (std error, t, P>|t| and the confidence interval). All of the intercept's coefficients are statistically insignificant.\n",
    "\n",
    "- std err of the piece_count: is the basic standard error of the estimate of the piece_count coefficient. In other words, it reflects the model accuracy in terms of the effect of an increase in the value of the independent variable on the value of the dependent variable. The model summary shows a std error of only 0.002 which is negligible. This shows that there isn't much room for error when we're examining the coefficient of piece_count and the amount by which the dependent variable (list_price) increases with every increase in the piece_count by 1 unit. The std error is only about 2.2% of the coefficient's value. Accordingly, the std error is statistically significant.\n",
    "\n",
    "- t of the piece_count: the model summary produces a t-value of 46.273 which is high and accordingly supports the statistical significance of the piece_count coefficient and provides more evidence against the null hypothesis (that no relationship exists between the list_price and piece_count). \n",
    "\n",
    "- P>|t|: the model produces a p-value of 0.00 which means there is no chance that the null hypothesis is true (i.e. that there is no statistically significant relationship between the list_price and the piece_count which also means that the correlation coefficient is equal to zero). This supports the idea that a strong relationship exists between the list_price and piece_count. \n",
    "\n",
    "- 95% CI Lower & Upper Values: the model summary shows that the lower and upper values of the 95% CI are 0.084 and 0.091, respectively. We can say that the interval is relatively narrow. The estimated value of the coefficient is 0.0875. The upper and lower values of the 95% CI are only 4% off the estimated value which is not alot. This also reflects the statistical significance of the relationship between the list_price and piece_count. In other words, our model is more accurate.\n",
    "\n",
    "- the relationship between list_price and piece_count found by the model is definitely plausible."
   ]
  },
  {
   "cell_type": "markdown",
   "metadata": {
    "index": 60
   },
   "source": [
    "# 5. Evaluate the Simple Linear Regression Model"
   ]
  },
  {
   "cell_type": "markdown",
   "metadata": {
    "index": 61
   },
   "source": [
    "Now that the model parameters have been interpreted, the model must be assessed based on predictive metrics and whether or not the model is meeting the assumptions of linear regression. "
   ]
  },
  {
   "cell_type": "markdown",
   "metadata": {
    "index": 62
   },
   "source": [
    "### Compare the $R^2$ and the Root Mean Squared Error of the simple linear regression model with the baseline model. "
   ]
  },
  {
   "cell_type": "code",
   "execution_count": 170,
   "metadata": {
    "index": 63
   },
   "outputs": [
    {
     "name": "stdout",
     "output_type": "stream",
     "text": [
      "Baseline R^2:  0.0\n",
      "Baseline RMSE: 73.60214730890442\n",
      "----------------------------\n",
      "Regression R^2:  0.7426440497844149\n",
      "Regression RMSE: 0.0\n"
     ]
    }
   ],
   "source": [
    "# Replace None with your code\n",
    "model_r2 = model.rsquared #finding the R2 value of the model\n",
    "\n",
    "model_pred = [] #creating an empty list to append the values of list_price predicted by the model\n",
    "for value in (df['list_price']): \n",
    "    model_pred.append(value)\n",
    "\n",
    "model_rmse = mean_squared_error(train.list_price, model_pred, squared=False) #finding the RMSE of the simple linear regression\n",
    "#model and comparing it to those of the baseline model\n",
    "\n",
    "print('Baseline R^2: ', baseline_r2)\n",
    "print('Baseline RMSE:', baseline_rmse)\n",
    "print('----------------------------')\n",
    "print('Regression R^2: ', model_r2)\n",
    "print('Regression RMSE:', model_rmse)"
   ]
  },
  {
   "cell_type": "markdown",
   "metadata": {
    "index": 65
   },
   "source": [
    "### Interpret the model metrics"
   ]
  },
  {
   "cell_type": "markdown",
   "metadata": {
    "index": "Placeholder"
   },
   "source": [
    "R Squared Values:\n",
    "- The calculations above show that the simple linear regression model produces a MUCH more satisfactory value of R2 compared to the baseline model. \n",
    "\n",
    "- The baseline model, as mentioned earlier, normally has an R2 value of zero as there is practically zero difference between the model's predicted values and the mean as the model itself follows the mean. \n",
    "\n",
    "- Our simple linear regression model has an R squared value of 0.742 which means that 74.2% of the variance in the dependent variable's (list_price) value is explained by the model and by the changes in the independent variable (piece_count). This is pretty satisfactory and again supports the hypothesis that there is a strong relationship between the list_price and the piece_count. \n",
    "\n",
    "- RMSE is an indication of how far the observed values (of the list_price) are from the model's predicted values. The baseline model has an RMSE of 73.6 which is a huge value in terms of price in USD! As for the simple regression model, the RMSE value is 0.0 which means that the observed values are very close to the model's predicted values. the latter again proves that a strong and statistically significant relationship exists between the list_price and piece_count.\n"
   ]
  },
  {
   "cell_type": "markdown",
   "metadata": {
    "index": 67
   },
   "source": [
    "### Check the assumptions of simple linear regression"
   ]
  },
  {
   "cell_type": "markdown",
   "metadata": {
    "index": 68
   },
   "source": [
    "#### Investigating Linearity\n",
    "\n",
    "First, let's check whether the linearity assumption holds."
   ]
  },
  {
   "cell_type": "code",
   "execution_count": 171,
   "metadata": {
    "index": 69
   },
   "outputs": [
    {
     "data": {
      "image/png": "[encoded data removed]",
      "text/plain": [
       "<Figure size 432x288 with 1 Axes>"
      ]
     },
     "metadata": {
      "needs_background": "light"
     },
     "output_type": "display_data"
    }
   ],
   "source": [
    "# Run this cell without changes\n",
    "\n",
    "preds = model.predict()\n",
    "fig, ax = plt.subplots()\n",
    "\n",
    "perfect_line = np.arange(df.list_price.min(), df.list_price.max())\n",
    "ax.plot(perfect_line, linestyle=\"--\", color=\"orange\", label=\"Perfect Fit\")\n",
    "ax.scatter(df.list_price, preds, alpha=0.5)\n",
    "ax.set_xlabel(\"Actual Price\")\n",
    "ax.set_ylabel(\"Predicted Price\")\n",
    "ax.legend();"
   ]
  },
  {
   "cell_type": "markdown",
   "metadata": {
    "index": 71
   },
   "source": [
    "Are you violating the linearity assumption?"
   ]
  },
  {
   "cell_type": "markdown",
   "metadata": {
    "index": "Placeholder"
   },
   "source": [
    "The linearity assumption is satisfied as the regression model hits the vast majority of the observed values while keeping a perfectly linear shape. Some outliers exist that might be removed as their count is negligible compared to the count of observed values which lie exactly on or very close to the perfect fit line."
   ]
  },
  {
   "cell_type": "markdown",
   "metadata": {
    "index": 73
   },
   "source": [
    "#### Investigating Normality\n",
    "\n",
    "Now let's check whether the normality assumption holds for our model."
   ]
  },
  {
   "cell_type": "code",
   "execution_count": 172,
   "metadata": {
    "index": 74
   },
   "outputs": [
    {
     "name": "stderr",
     "output_type": "stream",
     "text": [
      "/opt/conda/lib/python3.9/site-packages/statsmodels/graphics/gofplots.py:993: UserWarning: marker is redundantly defined by the 'marker' keyword argument and the fmt string \"bo\" (-> marker='o'). The keyword argument will take precedence.\n",
      "  ax.plot(x, y, fmt, **plot_style)\n"
     ]
    },
    {
     "data": {
      "image/png": "[encoded data removed]",
      "text/plain": [
       "<Figure size 432x288 with 1 Axes>"
      ]
     },
     "metadata": {
      "needs_background": "light"
     },
     "output_type": "display_data"
    }
   ],
   "source": [
    "# Run this code without changes\n",
    "import scipy.stats as stats\n",
    "import statsmodels.api as sm\n",
    "\n",
    "residuals = (df.list_price - preds)\n",
    "sm.graphics.qqplot(residuals, dist=stats.norm, line='45', fit=True);"
   ]
  },
  {
   "cell_type": "markdown",
   "metadata": {
    "index": 76
   },
   "source": [
    "Are you violating the normality assumption?"
   ]
  },
  {
   "cell_type": "markdown",
   "metadata": {
    "index": "Placeholder"
   },
   "source": [
    "Visual inspection of the QQ plot is not enough to confirm the violation of the normality assumption. The QQ plot is pretty satisfactory as most of the poinrs lie close to the 45 degree line with a tiny bit of deviation and a very small number of outliers. "
   ]
  },
  {
   "cell_type": "markdown",
   "metadata": {
    "index": 78
   },
   "source": [
    "#### Investigating Homoscedasticity\n",
    "\n",
    "Now let's check whether the model's errors are indeed homoscedastic or if they violate this principle and display heteroscedasticity."
   ]
  },
  {
   "cell_type": "code",
   "execution_count": 173,
   "metadata": {
    "index": 79
   },
   "outputs": [
    {
     "data": {
      "image/png": "[encoded data removed]",
      "text/plain": [
       "<Figure size 432x288 with 1 Axes>"
      ]
     },
     "metadata": {
      "needs_background": "light"
     },
     "output_type": "display_data"
    }
   ],
   "source": [
    "# Run this cell without changes\n",
    "fig, ax = plt.subplots()\n",
    "\n",
    "ax.scatter(preds, residuals, alpha=0.5)\n",
    "ax.plot(preds, [0 for i in range(len(df))])\n",
    "ax.set_xlabel(\"Predicted Value\")\n",
    "ax.set_ylabel(\"Actual - Predicted Value\");"
   ]
  },
  {
   "cell_type": "markdown",
   "metadata": {
    "index": 81
   },
   "source": [
    "Are you violating the homoscedasticity assumption?"
   ]
  },
  {
   "cell_type": "markdown",
   "metadata": {
    "index": "Placeholder"
   },
   "source": [
    "The plot above does not produce any cone shapes which would reflect heteroscedasticity. Homoscedasticity is satisfied. The small number of outliers that are far from the regression line will have a negligible impact and is nowhere near enough to violate homoscedasticity."
   ]
  },
  {
   "cell_type": "markdown",
   "metadata": {
    "index": 83
   },
   "source": [
    "### Linear Regression Assumptions Conclusion\n",
    "\n",
    "Given your answers above,how should you interpret our model's coefficients? Do you have a model that can be used for inferential as well as predictive purposes? What might your next steps be?"
   ]
  },
  {
   "cell_type": "markdown",
   "metadata": {
    "index": "Placeholder"
   },
   "source": [
    "- Model Coefficients: As mentioned earlier, the coefficients of the independent variable (piece_count) shown in the model summary all support the hypothesis that a statistically significant relationship exists between the list_price and the piece_count. The estimate of the correlation coefficient itself shows that the list price inreases by 8.75USD for every 100 additional pieces in the puzzle set ; which makes alot of sense when we consider that there's a puzzle on sale with more than 7,500 pieces! The std error in the estimate of the coefficient is negligible which provide more proof of the model's satisfactory accuracy and evidence against the null hypothesis (that no statistically significant relationship exists between the list_price and piece_count). The t-value is also pretty high and satisfactory which means that there's even more evidence that a relationship exists and that the variation of list_price as a function of piece_count is not purely from random chance. Last but not least, the P-value of 0 and the very narrow 95% CI all support the alternative hypothesis.\n",
    "\n",
    "- The model can be used for inferential and predictive purposes the way it is however it could perform better with some cleaning. That mainly has to do with the small number of outliers that can be removed without affecting the quality of the data in the model. My next step would be do remove outliers and repeat the analysis to see how the plots would differ."
   ]
  },
  {
   "cell_type": "markdown",
   "metadata": {
    "index": 85
   },
   "source": [
    "# Level Up: Project Enhancements\n",
    "\n",
    "After completing the project, you could consider the following enhancements if you have time:\n",
    "\n",
    "* Identify and remove outliers, then redo the analysis\n",
    "* Compile the data cleaning code into a function\n",
    "* Identify lego sets with high or low value for LEGO buyers, using the differences betyouen actual and predicted prices\n",
    "* [Log the target variable](https://www.codegrepper.com/code-examples/python/log+transform+pandas+dataframe) and see if that improves the model assumptions.\n",
    "* Conduct statistical tests using the numeric features in the dataset to make inferences about the population of LEGO sets"
   ]
  },
  {
   "cell_type": "markdown",
   "metadata": {
    "index": 86
   },
   "source": [
    "## Summary"
   ]
  },
  {
   "cell_type": "markdown",
   "metadata": {
    "index": 87
   },
   "source": [
    "Well done! As you can see, regression can be a challenging task that requires you to make decisions along the way, try alternative approaches, and make ongoing refinements."
   ]
  },
  {
   "cell_type": "code",
   "execution_count": 174,
   "metadata": {},
   "outputs": [
    {
     "data": {
      "image/png": "[encoded data removed]",
      "text/plain": [
       "<Figure size 432x288 with 1 Axes>"
      ]
     },
     "metadata": {
      "needs_background": "light"
     },
     "output_type": "display_data"
    }
   ],
   "source": [
    "#recreating the regression plot\n",
    "preds = model.predict()\n",
    "fig, ax = plt.subplots()\n",
    "\n",
    "perfect_line = np.arange(df.list_price.min(), df.list_price.max())\n",
    "ax.plot(perfect_line, linestyle=\"--\", color=\"orange\", label=\"Perfect Fit\")\n",
    "ax.scatter(df.list_price, preds, alpha=0.5)\n",
    "ax.set_xlabel(\"Actual Price\")\n",
    "ax.set_ylabel(\"Predicted Price\")\n",
    "ax.legend();"
   ]
  },
  {
   "cell_type": "code",
   "execution_count": 175,
   "metadata": {},
   "outputs": [
    {
     "data": {
      "image/png": "[encoded data removed]",
      "text/plain": [
       "<Figure size 432x288 with 1 Axes>"
      ]
     },
     "metadata": {
      "needs_background": "light"
     },
     "output_type": "display_data"
    }
   ],
   "source": [
    "#recreating the scatter plot\n",
    "scatter_piece_count = plt.scatter(train['piece_count'],train['list_price'])\n",
    "plt.xlabel('piece_count')\n",
    "plt.ylabel('list_price')\n",
    "plt.title('Scatter Plot - list_price vs piece_count')\n",
    "plt.show();"
   ]
  },
  {
   "cell_type": "code",
   "execution_count": 176,
   "metadata": {},
   "outputs": [
    {
     "name": "stdout",
     "output_type": "stream",
     "text": [
      "The indices of the outliers are \n",
      " (array([105, 541, 634]),)\n",
      " \n",
      " First outlier data: \n",
      " prod_id             75192.00\n",
      "min_age                16.00\n",
      "max_age                99.00\n",
      "difficulty_level        3.00\n",
      "piece_count          7541.00\n",
      "num_reviews           197.00\n",
      "star_rating             4.80\n",
      "list_price            799.99\n",
      "Name: 117, dtype: float64\n",
      " \n",
      " Second outlier data: \n",
      " prod_id             2000431.00\n",
      "min_age                   6.00\n",
      "max_age                  99.00\n",
      "difficulty_level          2.00\n",
      "piece_count            2455.00\n",
      "num_reviews               8.00\n",
      "star_rating               3.40\n",
      "list_price              754.99\n",
      "Name: 586, dtype: float64\n",
      " \n",
      " Third outlier data: \n",
      " prod_id             2000430.00\n",
      "min_age                   6.00\n",
      "max_age                  99.00\n",
      "difficulty_level          1.00\n",
      "piece_count            2631.00\n",
      "num_reviews               7.00\n",
      "star_rating               4.60\n",
      "list_price              789.99\n",
      "Name: 682, dtype: float64\n"
     ]
    }
   ],
   "source": [
    "#finding and removing the outliers\n",
    "\n",
    "import numpy as np\n",
    "\n",
    "#indices of the outliers\n",
    "print('The indices of the outliers are \\n',np.where((train['piece_count'] > 2000) & (train['list_price'] > 700)))\n",
    "\n",
    "print(' \\n First outlier data: \\n',train.iloc[105]) #first outlier data\n",
    "print(' \\n Second outlier data: \\n',train.iloc[541]) #second outlier data\n",
    "print(' \\n Third outlier data: \\n',train.iloc[634]) #third outlier data\n",
    "\n",
    "#Now we want to remove these outliers and then redo the analysis\n",
    "train = train.drop([train.index[105], train.index[541], train.index[634]])"
   ]
  },
  {
   "cell_type": "code",
   "execution_count": 177,
   "metadata": {},
   "outputs": [
    {
     "data": {
      "image/png": "[encoded data removed]",
      "text/plain": [
       "<Figure size 432x288 with 1 Axes>"
      ]
     },
     "metadata": {
      "needs_background": "light"
     },
     "output_type": "display_data"
    }
   ],
   "source": [
    "#recreating the scatter plot after removing the outliers\n",
    "scatter_piece_count = plt.scatter(train['piece_count'],train['list_price'])\n",
    "plt.xlabel('piece_count')\n",
    "plt.ylabel('list_price')\n",
    "plt.title('Scatter Plot - list_price vs piece_count')\n",
    "plt.show();"
   ]
  },
  {
   "cell_type": "code",
   "execution_count": 178,
   "metadata": {},
   "outputs": [
    {
     "name": "stdout",
     "output_type": "stream",
     "text": [
      "The indices of the outliers are \n",
      " (array([ 16, 378, 701]),)\n",
      "and (array([439]),)\n",
      " \n",
      " First outlier data: \n",
      " prod_id             75159.00\n",
      "min_age                14.00\n",
      "max_age                99.00\n",
      "difficulty_level        3.00\n",
      "piece_count          4016.00\n",
      "num_reviews            84.00\n",
      "star_rating             3.90\n",
      "list_price            499.99\n",
      "Name: 16, dtype: float64\n",
      " \n",
      " Second outlier data: \n",
      " prod_id             10256.00\n",
      "min_age                16.00\n",
      "max_age                99.00\n",
      "difficulty_level        3.00\n",
      "piece_count          5923.00\n",
      "num_reviews            43.00\n",
      "star_rating             4.80\n",
      "list_price            369.99\n",
      "Name: 412, dtype: float64\n",
      " \n",
      " Third outlier data: \n",
      " prod_id             2000409.00\n",
      "min_age                   6.00\n",
      "max_age                  99.00\n",
      "difficulty_level          1.00\n",
      "piece_count            4900.00\n",
      "num_reviews               2.00\n",
      "star_rating               5.00\n",
      "list_price              484.99\n",
      "Name: 764, dtype: float64\n",
      " \n",
      " Fourth outlier data: \n",
      " prod_id             31313.00\n",
      "min_age                10.00\n",
      "max_age                99.00\n",
      "difficulty_level        3.00\n",
      "piece_count           601.00\n",
      "num_reviews            38.00\n",
      "star_rating             4.30\n",
      "list_price            349.99\n",
      "Name: 479, dtype: float64\n"
     ]
    }
   ],
   "source": [
    "#removing more outliers\n",
    "\n",
    "#identifying the indices of the outliers we want to remove\n",
    "print('The indices of the outliers are \\n',np.where((train['piece_count'] > 4000) & (train['list_price'] > 350)))\n",
    "print('and',np.where((train['piece_count'] < 1000) & (train['list_price'] > 300)))\n",
    "\n",
    "print(' \\n First outlier data: \\n',train.iloc[16]) #first outlier data\n",
    "print(' \\n Second outlier data: \\n',train.iloc[378]) #second outlier data\n",
    "print(' \\n Third outlier data: \\n',train.iloc[701]) #third outlier data\n",
    "print(' \\n Fourth outlier data: \\n',train.iloc[439]) #fourth outlier data\n",
    "\n",
    "#removing the outliers\n",
    "train = train.drop([train.index[16], train.index[378], train.index[701], train.index[439]])"
   ]
  },
  {
   "cell_type": "code",
   "execution_count": 179,
   "metadata": {
    "scrolled": true
   },
   "outputs": [
    {
     "data": {
      "image/png": "[encoded data removed]",
      "text/plain": [
       "<Figure size 432x288 with 1 Axes>"
      ]
     },
     "metadata": {
      "needs_background": "light"
     },
     "output_type": "display_data"
    }
   ],
   "source": [
    "#recreating the scatter plot\n",
    "scatter_piece_count = plt.scatter(train['piece_count'],train['list_price'])\n",
    "plt.xlabel('piece_count')\n",
    "plt.ylabel('list_price')\n",
    "plt.title('Final Enhanced Scatter Plot - list_price vs piece_count')\n",
    "plt.show();"
   ]
  },
  {
   "cell_type": "markdown",
   "metadata": {},
   "source": [
    "The plot above looks so much better with almost all data points being close together!! I believe that's all for removing outliers...at least the extreme ones. "
   ]
  },
  {
   "cell_type": "code",
   "execution_count": 180,
   "metadata": {},
   "outputs": [
    {
     "data": {
      "text/html": [
       "<table class=\"simpletable\">\n",
       "<caption>OLS Regression Results</caption>\n",
       "<tr>\n",
       "  <th>Dep. Variable:</th>       <td>list_price</td>    <th>  R-squared:         </th> <td>   0.743</td> \n",
       "</tr>\n",
       "<tr>\n",
       "  <th>Model:</th>                   <td>OLS</td>       <th>  Adj. R-squared:    </th> <td>   0.742</td> \n",
       "</tr>\n",
       "<tr>\n",
       "  <th>Method:</th>             <td>Least Squares</td>  <th>  F-statistic:       </th> <td>   2141.</td> \n",
       "</tr>\n",
       "<tr>\n",
       "  <th>Date:</th>             <td>Sat, 19 Feb 2022</td> <th>  Prob (F-statistic):</th> <td>6.91e-221</td>\n",
       "</tr>\n",
       "<tr>\n",
       "  <th>Time:</th>                 <td>13:00:30</td>     <th>  Log-Likelihood:    </th> <td> -3749.0</td> \n",
       "</tr>\n",
       "<tr>\n",
       "  <th>No. Observations:</th>      <td>   744</td>      <th>  AIC:               </th> <td>   7502.</td> \n",
       "</tr>\n",
       "<tr>\n",
       "  <th>Df Residuals:</th>          <td>   742</td>      <th>  BIC:               </th> <td>   7511.</td> \n",
       "</tr>\n",
       "<tr>\n",
       "  <th>Df Model:</th>              <td>     1</td>      <th>                     </th>     <td> </td>    \n",
       "</tr>\n",
       "<tr>\n",
       "  <th>Covariance Type:</th>      <td>nonrobust</td>    <th>                     </th>     <td> </td>    \n",
       "</tr>\n",
       "</table>\n",
       "<table class=\"simpletable\">\n",
       "<tr>\n",
       "       <td></td>          <th>coef</th>     <th>std err</th>      <th>t</th>      <th>P>|t|</th>  <th>[0.025</th>    <th>0.975]</th>  \n",
       "</tr>\n",
       "<tr>\n",
       "  <th>Intercept</th>   <td>   11.4565</td> <td>    1.593</td> <td>    7.192</td> <td> 0.000</td> <td>    8.329</td> <td>   14.584</td>\n",
       "</tr>\n",
       "<tr>\n",
       "  <th>piece_count</th> <td>    0.0875</td> <td>    0.002</td> <td>   46.273</td> <td> 0.000</td> <td>    0.084</td> <td>    0.091</td>\n",
       "</tr>\n",
       "</table>\n",
       "<table class=\"simpletable\">\n",
       "<tr>\n",
       "  <th>Omnibus:</th>       <td>1141.526</td> <th>  Durbin-Watson:     </th>  <td>   1.961</td> \n",
       "</tr>\n",
       "<tr>\n",
       "  <th>Prob(Omnibus):</th>  <td> 0.000</td>  <th>  Jarque-Bera (JB):  </th> <td>464258.231</td>\n",
       "</tr>\n",
       "<tr>\n",
       "  <th>Skew:</th>           <td> 8.756</td>  <th>  Prob(JB):          </th>  <td>    0.00</td> \n",
       "</tr>\n",
       "<tr>\n",
       "  <th>Kurtosis:</th>       <td>124.117</td> <th>  Cond. No.          </th>  <td>    978.</td> \n",
       "</tr>\n",
       "</table><br/><br/>Notes:<br/>[1] Standard Errors assume that the covariance matrix of the errors is correctly specified."
      ],
      "text/plain": [
       "<class 'statsmodels.iolib.summary.Summary'>\n",
       "\"\"\"\n",
       "                            OLS Regression Results                            \n",
       "==============================================================================\n",
       "Dep. Variable:             list_price   R-squared:                       0.743\n",
       "Model:                            OLS   Adj. R-squared:                  0.742\n",
       "Method:                 Least Squares   F-statistic:                     2141.\n",
       "Date:                Sat, 19 Feb 2022   Prob (F-statistic):          6.91e-221\n",
       "Time:                        13:00:30   Log-Likelihood:                -3749.0\n",
       "No. Observations:                 744   AIC:                             7502.\n",
       "Df Residuals:                     742   BIC:                             7511.\n",
       "Df Model:                           1                                         \n",
       "Covariance Type:            nonrobust                                         \n",
       "===============================================================================\n",
       "                  coef    std err          t      P>|t|      [0.025      0.975]\n",
       "-------------------------------------------------------------------------------\n",
       "Intercept      11.4565      1.593      7.192      0.000       8.329      14.584\n",
       "piece_count     0.0875      0.002     46.273      0.000       0.084       0.091\n",
       "==============================================================================\n",
       "Omnibus:                     1141.526   Durbin-Watson:                   1.961\n",
       "Prob(Omnibus):                  0.000   Jarque-Bera (JB):           464258.231\n",
       "Skew:                           8.756   Prob(JB):                         0.00\n",
       "Kurtosis:                     124.117   Cond. No.                         978.\n",
       "==============================================================================\n",
       "\n",
       "Notes:\n",
       "[1] Standard Errors assume that the covariance matrix of the errors is correctly specified.\n",
       "\"\"\""
      ]
     },
     "execution_count": 180,
     "metadata": {},
     "output_type": "execute_result"
    }
   ],
   "source": [
    "model.summary()"
   ]
  },
  {
   "cell_type": "code",
   "execution_count": 181,
   "metadata": {
    "scrolled": false
   },
   "outputs": [
    {
     "data": {
      "text/html": [
       "<table class=\"simpletable\">\n",
       "<caption>OLS Regression Results</caption>\n",
       "<tr>\n",
       "  <th>Dep. Variable:</th>       <td>list_price</td>    <th>  R-squared:         </th> <td>   0.849</td> \n",
       "</tr>\n",
       "<tr>\n",
       "  <th>Model:</th>                   <td>OLS</td>       <th>  Adj. R-squared:    </th> <td>   0.849</td> \n",
       "</tr>\n",
       "<tr>\n",
       "  <th>Method:</th>             <td>Least Squares</td>  <th>  F-statistic:       </th> <td>   4137.</td> \n",
       "</tr>\n",
       "<tr>\n",
       "  <th>Date:</th>             <td>Sat, 19 Feb 2022</td> <th>  Prob (F-statistic):</th> <td>4.42e-304</td>\n",
       "</tr>\n",
       "<tr>\n",
       "  <th>Time:</th>                 <td>13:00:30</td>     <th>  Log-Likelihood:    </th> <td> -3226.1</td> \n",
       "</tr>\n",
       "<tr>\n",
       "  <th>No. Observations:</th>      <td>   737</td>      <th>  AIC:               </th> <td>   6456.</td> \n",
       "</tr>\n",
       "<tr>\n",
       "  <th>Df Residuals:</th>          <td>   735</td>      <th>  BIC:               </th> <td>   6465.</td> \n",
       "</tr>\n",
       "<tr>\n",
       "  <th>Df Model:</th>              <td>     1</td>      <th>                     </th>     <td> </td>    \n",
       "</tr>\n",
       "<tr>\n",
       "  <th>Covariance Type:</th>      <td>nonrobust</td>    <th>                     </th>     <td> </td>    \n",
       "</tr>\n",
       "</table>\n",
       "<table class=\"simpletable\">\n",
       "<tr>\n",
       "       <td></td>          <th>coef</th>     <th>std err</th>      <th>t</th>      <th>P>|t|</th>  <th>[0.025</th>    <th>0.975]</th>  \n",
       "</tr>\n",
       "<tr>\n",
       "  <th>Intercept</th>   <td>   13.9919</td> <td>    0.850</td> <td>   16.463</td> <td> 0.000</td> <td>   12.323</td> <td>   15.660</td>\n",
       "</tr>\n",
       "<tr>\n",
       "  <th>piece_count</th> <td>    0.0759</td> <td>    0.001</td> <td>   64.316</td> <td> 0.000</td> <td>    0.074</td> <td>    0.078</td>\n",
       "</tr>\n",
       "</table>\n",
       "<table class=\"simpletable\">\n",
       "<tr>\n",
       "  <th>Omnibus:</th>       <td>500.525</td> <th>  Durbin-Watson:     </th> <td>   1.972</td> \n",
       "</tr>\n",
       "<tr>\n",
       "  <th>Prob(Omnibus):</th> <td> 0.000</td>  <th>  Jarque-Bera (JB):  </th> <td>12840.388</td>\n",
       "</tr>\n",
       "<tr>\n",
       "  <th>Skew:</th>          <td> 2.655</td>  <th>  Prob(JB):          </th> <td>    0.00</td> \n",
       "</tr>\n",
       "<tr>\n",
       "  <th>Kurtosis:</th>      <td>22.747</td>  <th>  Cond. No.          </th> <td>    861.</td> \n",
       "</tr>\n",
       "</table><br/><br/>Notes:<br/>[1] Standard Errors assume that the covariance matrix of the errors is correctly specified."
      ],
      "text/plain": [
       "<class 'statsmodels.iolib.summary.Summary'>\n",
       "\"\"\"\n",
       "                            OLS Regression Results                            \n",
       "==============================================================================\n",
       "Dep. Variable:             list_price   R-squared:                       0.849\n",
       "Model:                            OLS   Adj. R-squared:                  0.849\n",
       "Method:                 Least Squares   F-statistic:                     4137.\n",
       "Date:                Sat, 19 Feb 2022   Prob (F-statistic):          4.42e-304\n",
       "Time:                        13:00:30   Log-Likelihood:                -3226.1\n",
       "No. Observations:                 737   AIC:                             6456.\n",
       "Df Residuals:                     735   BIC:                             6465.\n",
       "Df Model:                           1                                         \n",
       "Covariance Type:            nonrobust                                         \n",
       "===============================================================================\n",
       "                  coef    std err          t      P>|t|      [0.025      0.975]\n",
       "-------------------------------------------------------------------------------\n",
       "Intercept      13.9919      0.850     16.463      0.000      12.323      15.660\n",
       "piece_count     0.0759      0.001     64.316      0.000       0.074       0.078\n",
       "==============================================================================\n",
       "Omnibus:                      500.525   Durbin-Watson:                   1.972\n",
       "Prob(Omnibus):                  0.000   Jarque-Bera (JB):            12840.388\n",
       "Skew:                           2.655   Prob(JB):                         0.00\n",
       "Kurtosis:                      22.747   Cond. No.                         861.\n",
       "==============================================================================\n",
       "\n",
       "Notes:\n",
       "[1] Standard Errors assume that the covariance matrix of the errors is correctly specified.\n",
       "\"\"\""
      ]
     },
     "execution_count": 181,
     "metadata": {},
     "output_type": "execute_result"
    }
   ],
   "source": [
    "import statsmodels.formula.api as smf\n",
    "from statsmodels.formula.api import ols\n",
    "f_piece_count_enhanced = 'list_price ~ piece_count' \n",
    "model_enhanced = ols(formula = f_piece_count_enhanced, data = train).fit() \n",
    "model_enhanced.summary() "
   ]
  },
  {
   "cell_type": "markdown",
   "metadata": {},
   "source": [
    "Interpreting the new model summary and comparing it to that of the original model (with the outliers):\n",
    "\n",
    "- R Squared: The enhanced model (with the outliers removed) has an R squared value of 0.849 which is higher than that of the original model ; 0.743. 74.3% of the variance in the list_price was explained by the changes in piece_count according to the original model. With the enhanced model, now 84.9% of the variance can be explained by the changes in piece_count which is a much more satisfactory outcome. That is due to removing the extreme outliers which do not align with the predictions of the regression model. The outliers show weird value of list_price at certain piece_count values due to random chance. This shows that our model is working better now after removing the extreme outliers from the scatter plot of Y~X.\n",
    "\n",
    "- Coefficient section: Looking at the estimate of the coefficient for piece_count, the new value is 0.0759 compared to the 0.0875 in the original model. the estimate of the coefficient changed a little bit after removing the outliers which obviously makes the prediction more accurate. However, an interesting observation is that the std error of the coefficient is even less now at 0.001 instead of 0.002! The latter means that we are pretty confident of the estimated correlation coefficient. Moving on to the t-value, we get a higher value of 64.3 compared to the 46.2 we had in the original model. This provides even more evidence against the null hypothesis (that no statistically significant relationship exists). The p-value is still zero as in the original regression model. As for the 95% CI, the interval is even narrower than it was in the original regression model and that also reflects the enhanced accuracy of the revised model."
   ]
  },
  {
   "cell_type": "code",
   "execution_count": 182,
   "metadata": {},
   "outputs": [
    {
     "data": {
      "image/png": "[encoded data removed]",
      "text/plain": [
       "<Figure size 1080x576 with 4 Axes>"
      ]
     },
     "metadata": {
      "needs_background": "light"
     },
     "output_type": "display_data"
    }
   ],
   "source": [
    "#visualizing the error terms\n",
    "#Identify lego sets with high or low value for LEGO buyers, using the differences betyouen actual and predicted prices\n",
    "fig = plt.figure(figsize=(15,8))\n",
    "fig = sm.graphics.plot_regress_exog(model_enhanced, \"piece_count\", fig=fig)\n",
    "plt.show()"
   ]
  },
  {
   "cell_type": "markdown",
   "metadata": {},
   "source": [
    "Generally, I believe that when certain LEGO sets have higher value for buyers, they would generally want to buy them more. More demand on these means a more predictable price that can be determined more accurately by the regression model. "
   ]
  },
  {
   "cell_type": "code",
   "execution_count": 183,
   "metadata": {
    "scrolled": true
   },
   "outputs": [
    {
     "data": {
      "text/plain": [
       "0      10.942852\n",
       "1       9.081278\n",
       "2       4.099945\n",
       "3      -7.777468\n",
       "4      -9.110987\n",
       "         ...    \n",
       "799     3.729986\n",
       "800   -12.201821\n",
       "801     6.485369\n",
       "802     3.861127\n",
       "803    -5.618442\n",
       "Length: 737, dtype: float64"
      ]
     },
     "execution_count": 183,
     "metadata": {},
     "output_type": "execute_result"
    }
   ],
   "source": [
    "model_enhanced.resid #showing the residuals values of the enhanced model"
   ]
  },
  {
   "cell_type": "markdown",
   "metadata": {},
   "source": [
    "I will be extracting the indices of the lego sets with residuals values less than -50 and greater than 100."
   ]
  },
  {
   "cell_type": "code",
   "execution_count": 184,
   "metadata": {},
   "outputs": [
    {
     "name": "stdout",
     "output_type": "stream",
     "text": [
      "the cheapest puzzle set is sold at 2.49\n",
      "the most expensive puzzle set is sold at 349.99\n"
     ]
    }
   ],
   "source": [
    "#showing the min and max price out of curiousity\n",
    "print('the cheapest puzzle set is sold at',train.list_price.min())\n",
    "print('the most expensive puzzle set is sold at',train.list_price.max())"
   ]
  },
  {
   "cell_type": "code",
   "execution_count": 185,
   "metadata": {},
   "outputs": [
    {
     "name": "stdout",
     "output_type": "stream",
     "text": [
      "The indices of puzzle sets with low value for buyers is: [126, 423, 597, 666, 699, 720]\n",
      " \n",
      " The first puzzle set: prod_id             60052.00\n",
      "min_age                 6.00\n",
      "max_age                12.00\n",
      "difficulty_level        2.00\n",
      "piece_count           888.00\n",
      "num_reviews            35.00\n",
      "star_rating             4.40\n",
      "list_price            199.99\n",
      "Name: 143, dtype: float64 \n",
      "\n",
      " \n",
      " The second puzzle set: prod_id             10214.00\n",
      "min_age                16.00\n",
      "max_age                99.00\n",
      "difficulty_level        3.00\n",
      "piece_count          4295.00\n",
      "num_reviews           228.00\n",
      "star_rating             4.80\n",
      "list_price            239.99\n",
      "Name: 462, dtype: float64 \n",
      "\n",
      " \n",
      " The third puzzle set: prod_id             10253.00\n",
      "min_age                16.00\n",
      "max_age                99.00\n",
      "difficulty_level        3.00\n",
      "piece_count          4163.00\n",
      "num_reviews            64.00\n",
      "star_rating             4.60\n",
      "list_price            249.99\n",
      "Name: 650, dtype: float64 \n",
      "\n",
      " \n",
      " The fourth puzzle set: prod_id             70620.00\n",
      "min_age                16.00\n",
      "max_age                99.00\n",
      "difficulty_level        3.00\n",
      "piece_count          4867.00\n",
      "num_reviews            88.00\n",
      "star_rating             4.90\n",
      "list_price            299.99\n",
      "Name: 723, dtype: float64 \n",
      "\n",
      " \n",
      " The fifth puzzle set: prod_id             42070.00\n",
      "min_age                11.00\n",
      "max_age                16.00\n",
      "difficulty_level        3.00\n",
      "piece_count          1862.00\n",
      "num_reviews            45.00\n",
      "star_rating             3.50\n",
      "list_price            289.99\n",
      "Name: 766, dtype: float64 \n",
      "\n",
      " \n",
      " The sixth puzzle set: prod_id             45500.00\n",
      "min_age                10.00\n",
      "max_age                21.00\n",
      "difficulty_level        2.00\n",
      "piece_count             1.00\n",
      "num_reviews             1.00\n",
      "star_rating             4.00\n",
      "list_price            197.99\n",
      "Name: 787, dtype: float64 \n",
      "\n"
     ]
    }
   ],
   "source": [
    "resid_list = list(model_enhanced.resid) #converting the residuals pandas series to a list\n",
    "indices_low_value = [] #creating an empty list to append the indices of low value sets into it\n",
    "for i in range(len(resid_list)): #looping through the residuals list\n",
    "    if resid_list[i] > 100 or resid_list[i] < -50: #and extracting the indices of the values with residuals >100 or <-50\n",
    "        indices_low_value.append(i)\n",
    "print('The indices of puzzle sets with low value for buyers is:',indices_low_value) #the list of indices\n",
    "print(' \\n The first puzzle set:',train.iloc[126],'\\n') #first set info\n",
    "print(' \\n The second puzzle set:',train.iloc[423],'\\n') #second set info\n",
    "print(' \\n The third puzzle set:',train.iloc[597],'\\n') #third set info\n",
    "print(' \\n The fourth puzzle set:',train.iloc[666],'\\n') #fourth set info\n",
    "print(' \\n The fifth puzzle set:',train.iloc[699],'\\n') #fifth set info \n",
    "print(' \\n The sixth puzzle set:',train.iloc[720],'\\n') #sixth set info"
   ]
  },
  {
   "cell_type": "code",
   "execution_count": 186,
   "metadata": {},
   "outputs": [],
   "source": [
    "#compiling the data cleaning code into a function\n",
    "#This function should take a pandas dataframe, a dependent variable string name and an independent variable string name\n",
    "#as arguments and should do the following\n",
    "# 1) Check for null values in the dependent variable column and remove them\n",
    "# 2) Replace any spaces in the column names with an uderscore\n",
    "# 3) Set the data types to int or float\n",
    "# 4) Drop any duplicates\n",
    "\n",
    "def data_cleaning_part1(dataframe):\n",
    "    dataframe.columns = dataframe.columns.str.replace(' ','_')\n",
    "    dataframe.columns = dataframe.columns.str.lower()\n",
    "    dataframe = dataframe.drop_duplicates()\n",
    "    return dataframe\n",
    "def data_cleaning_part2(dataframe,x):\n",
    "    data_cleaning_part1(dataframe)\n",
    "    dataframe[x] = dataframe[x].apply(lambda x: str(x).replace(\"$\",''))"
   ]
  },
  {
   "cell_type": "code",
   "execution_count": 187,
   "metadata": {},
   "outputs": [],
   "source": [
    "conn = sqlite3.connect('data/legos.db')\n",
    "q = \"\"\"\n",
    "SELECT * \n",
    "FROM difficulty AS d\n",
    "JOIN product_info AS p\n",
    "ON d.\"Prod Id\" = p.\"Prod Id\"\n",
    "JOIN metrics AS m\n",
    "ON d.\"Prod Id\" = m.\"Prod Id\"\n",
    "\"\"\"\n",
    "test_df = pd.read_sql(q,conn)"
   ]
  },
  {
   "cell_type": "code",
   "execution_count": 188,
   "metadata": {
    "scrolled": true
   },
   "outputs": [],
   "source": [
    "data_cleaning_part2(test_df,\"list_price\")"
   ]
  },
  {
   "cell_type": "code",
   "execution_count": 189,
   "metadata": {},
   "outputs": [
    {
     "data": {
      "text/html": [
       "<div>\n",
       "<style scoped>\n",
       "    .dataframe tbody tr th:only-of-type {\n",
       "        vertical-align: middle;\n",
       "    }\n",
       "\n",
       "    .dataframe tbody tr th {\n",
       "        vertical-align: top;\n",
       "    }\n",
       "\n",
       "    .dataframe thead th {\n",
       "        text-align: right;\n",
       "    }\n",
       "</style>\n",
       "<table border=\"1\" class=\"dataframe\">\n",
       "  <thead>\n",
       "    <tr style=\"text-align: right;\">\n",
       "      <th></th>\n",
       "      <th>prod_id</th>\n",
       "      <th>min_age</th>\n",
       "      <th>max_age</th>\n",
       "      <th>difficulty_level</th>\n",
       "      <th>prod_id</th>\n",
       "      <th>set_name</th>\n",
       "      <th>prod_desc</th>\n",
       "      <th>theme_name</th>\n",
       "      <th>piece_count</th>\n",
       "      <th>prod_id</th>\n",
       "      <th>num_reviews</th>\n",
       "      <th>star_rating</th>\n",
       "      <th>list_price</th>\n",
       "    </tr>\n",
       "  </thead>\n",
       "  <tbody>\n",
       "    <tr>\n",
       "      <th>0</th>\n",
       "      <td>60123</td>\n",
       "      <td>7.0</td>\n",
       "      <td>12.0</td>\n",
       "      <td>1</td>\n",
       "      <td>60123</td>\n",
       "      <td>Volcano Supply Helicopter</td>\n",
       "      <td>Fly in the exploration gear and fly out the cr...</td>\n",
       "      <td>City</td>\n",
       "      <td>330</td>\n",
       "      <td>60123</td>\n",
       "      <td>3.0</td>\n",
       "      <td>4.3</td>\n",
       "      <td>49.99</td>\n",
       "    </tr>\n",
       "    <tr>\n",
       "      <th>1</th>\n",
       "      <td>71246</td>\n",
       "      <td>7.0</td>\n",
       "      <td>14.0</td>\n",
       "      <td>1</td>\n",
       "      <td>71246</td>\n",
       "      <td>Adventure Time™ Team Pack</td>\n",
       "      <td>Explore the Land of Ooo with Jake and Lumpy Sp...</td>\n",
       "      <td>DIMENSIONS™</td>\n",
       "      <td>96</td>\n",
       "      <td>71246</td>\n",
       "      <td>3.0</td>\n",
       "      <td>4.7</td>\n",
       "      <td>30.362</td>\n",
       "    </tr>\n",
       "    <tr>\n",
       "      <th>2</th>\n",
       "      <td>10616</td>\n",
       "      <td>1.5</td>\n",
       "      <td>5.0</td>\n",
       "      <td>1</td>\n",
       "      <td>10616</td>\n",
       "      <td>My First Playhouse</td>\n",
       "      <td>Learn about daily routines with this easy-to-b...</td>\n",
       "      <td>DUPLO®</td>\n",
       "      <td>25</td>\n",
       "      <td>10616</td>\n",
       "      <td>3.0</td>\n",
       "      <td>5.0</td>\n",
       "      <td>19.99</td>\n",
       "    </tr>\n",
       "    <tr>\n",
       "      <th>3</th>\n",
       "      <td>31079</td>\n",
       "      <td>8.0</td>\n",
       "      <td>12.0</td>\n",
       "      <td>1</td>\n",
       "      <td>31079</td>\n",
       "      <td>Sunshine Surfer Van</td>\n",
       "      <td>Enjoy seaside fun with the 3-in-1 Sunshine Sur...</td>\n",
       "      <td>Creator 3-in-1</td>\n",
       "      <td>379</td>\n",
       "      <td>31079</td>\n",
       "      <td>5.0</td>\n",
       "      <td>4.4</td>\n",
       "      <td>34.99</td>\n",
       "    </tr>\n",
       "    <tr>\n",
       "      <th>4</th>\n",
       "      <td>42057</td>\n",
       "      <td>8.0</td>\n",
       "      <td>14.0</td>\n",
       "      <td>1</td>\n",
       "      <td>42057</td>\n",
       "      <td>Ultralight Helicopter</td>\n",
       "      <td>Take to the skies with the Ultralight Helicopter!</td>\n",
       "      <td>Technic</td>\n",
       "      <td>199</td>\n",
       "      <td>42057</td>\n",
       "      <td>9.0</td>\n",
       "      <td>4.7</td>\n",
       "      <td>19.99</td>\n",
       "    </tr>\n",
       "    <tr>\n",
       "      <th>...</th>\n",
       "      <td>...</td>\n",
       "      <td>...</td>\n",
       "      <td>...</td>\n",
       "      <td>...</td>\n",
       "      <td>...</td>\n",
       "      <td>...</td>\n",
       "      <td>...</td>\n",
       "      <td>...</td>\n",
       "      <td>...</td>\n",
       "      <td>...</td>\n",
       "      <td>...</td>\n",
       "      <td>...</td>\n",
       "      <td>...</td>\n",
       "    </tr>\n",
       "    <tr>\n",
       "      <th>879</th>\n",
       "      <td>60146</td>\n",
       "      <td>5.0</td>\n",
       "      <td>12.0</td>\n",
       "      <td>1</td>\n",
       "      <td>60146</td>\n",
       "      <td>Stunt Truck</td>\n",
       "      <td>Strap in and jump some ramps!</td>\n",
       "      <td>City</td>\n",
       "      <td>91</td>\n",
       "      <td>60146</td>\n",
       "      <td>8.0</td>\n",
       "      <td>4.8</td>\n",
       "      <td>9.99</td>\n",
       "    </tr>\n",
       "    <tr>\n",
       "      <th>880</th>\n",
       "      <td>70313</td>\n",
       "      <td>8.0</td>\n",
       "      <td>14.0</td>\n",
       "      <td>2</td>\n",
       "      <td>70313</td>\n",
       "      <td>Moltor’s Lava Smasher</td>\n",
       "      <td>Smash Aaron Fox out of the way and capture the...</td>\n",
       "      <td>NEXO KNIGHTS™</td>\n",
       "      <td>187</td>\n",
       "      <td>70313</td>\n",
       "      <td>3.0</td>\n",
       "      <td>4.7</td>\n",
       "      <td>19.99</td>\n",
       "    </tr>\n",
       "    <tr>\n",
       "      <th>881</th>\n",
       "      <td>70313</td>\n",
       "      <td>8.0</td>\n",
       "      <td>14.0</td>\n",
       "      <td>2</td>\n",
       "      <td>70313</td>\n",
       "      <td>Moltor’s Lava Smasher</td>\n",
       "      <td>Smash Aaron Fox out of the way and capture the...</td>\n",
       "      <td>NEXO KNIGHTS™</td>\n",
       "      <td>187</td>\n",
       "      <td>70313</td>\n",
       "      <td>3.0</td>\n",
       "      <td>4.7</td>\n",
       "      <td>None</td>\n",
       "    </tr>\n",
       "    <tr>\n",
       "      <th>882</th>\n",
       "      <td>70313</td>\n",
       "      <td>8.0</td>\n",
       "      <td>14.0</td>\n",
       "      <td>2</td>\n",
       "      <td>70313</td>\n",
       "      <td>Moltor’s Lava Smasher</td>\n",
       "      <td>Smash Aaron Fox out of the way and capture the...</td>\n",
       "      <td>NEXO KNIGHTS™</td>\n",
       "      <td>187</td>\n",
       "      <td>70313</td>\n",
       "      <td>3.0</td>\n",
       "      <td>4.7</td>\n",
       "      <td>19.99</td>\n",
       "    </tr>\n",
       "    <tr>\n",
       "      <th>883</th>\n",
       "      <td>70313</td>\n",
       "      <td>8.0</td>\n",
       "      <td>14.0</td>\n",
       "      <td>2</td>\n",
       "      <td>70313</td>\n",
       "      <td>Moltor’s Lava Smasher</td>\n",
       "      <td>Smash Aaron Fox out of the way and capture the...</td>\n",
       "      <td>NEXO KNIGHTS™</td>\n",
       "      <td>187</td>\n",
       "      <td>70313</td>\n",
       "      <td>3.0</td>\n",
       "      <td>4.7</td>\n",
       "      <td>None</td>\n",
       "    </tr>\n",
       "  </tbody>\n",
       "</table>\n",
       "<p>884 rows × 13 columns</p>\n",
       "</div>"
      ],
      "text/plain": [
       "     prod_id  min_age  max_age  difficulty_level  prod_id  \\\n",
       "0      60123      7.0     12.0                 1    60123   \n",
       "1      71246      7.0     14.0                 1    71246   \n",
       "2      10616      1.5      5.0                 1    10616   \n",
       "3      31079      8.0     12.0                 1    31079   \n",
       "4      42057      8.0     14.0                 1    42057   \n",
       "..       ...      ...      ...               ...      ...   \n",
       "879    60146      5.0     12.0                 1    60146   \n",
       "880    70313      8.0     14.0                 2    70313   \n",
       "881    70313      8.0     14.0                 2    70313   \n",
       "882    70313      8.0     14.0                 2    70313   \n",
       "883    70313      8.0     14.0                 2    70313   \n",
       "\n",
       "                      set_name  \\\n",
       "0    Volcano Supply Helicopter   \n",
       "1    Adventure Time™ Team Pack   \n",
       "2           My First Playhouse   \n",
       "3          Sunshine Surfer Van   \n",
       "4        Ultralight Helicopter   \n",
       "..                         ...   \n",
       "879                Stunt Truck   \n",
       "880      Moltor’s Lava Smasher   \n",
       "881      Moltor’s Lava Smasher   \n",
       "882      Moltor’s Lava Smasher   \n",
       "883      Moltor’s Lava Smasher   \n",
       "\n",
       "                                             prod_desc      theme_name  \\\n",
       "0    Fly in the exploration gear and fly out the cr...            City   \n",
       "1    Explore the Land of Ooo with Jake and Lumpy Sp...     DIMENSIONS™   \n",
       "2    Learn about daily routines with this easy-to-b...          DUPLO®   \n",
       "3    Enjoy seaside fun with the 3-in-1 Sunshine Sur...  Creator 3-in-1   \n",
       "4    Take to the skies with the Ultralight Helicopter!         Technic   \n",
       "..                                                 ...             ...   \n",
       "879                      Strap in and jump some ramps!            City   \n",
       "880  Smash Aaron Fox out of the way and capture the...   NEXO KNIGHTS™   \n",
       "881  Smash Aaron Fox out of the way and capture the...   NEXO KNIGHTS™   \n",
       "882  Smash Aaron Fox out of the way and capture the...   NEXO KNIGHTS™   \n",
       "883  Smash Aaron Fox out of the way and capture the...   NEXO KNIGHTS™   \n",
       "\n",
       "     piece_count  prod_id  num_reviews  star_rating list_price  \n",
       "0            330    60123          3.0          4.3      49.99  \n",
       "1             96    71246          3.0          4.7     30.362  \n",
       "2             25    10616          3.0          5.0      19.99  \n",
       "3            379    31079          5.0          4.4      34.99  \n",
       "4            199    42057          9.0          4.7      19.99  \n",
       "..           ...      ...          ...          ...        ...  \n",
       "879           91    60146          8.0          4.8       9.99  \n",
       "880          187    70313          3.0          4.7      19.99  \n",
       "881          187    70313          3.0          4.7       None  \n",
       "882          187    70313          3.0          4.7      19.99  \n",
       "883          187    70313          3.0          4.7       None  \n",
       "\n",
       "[884 rows x 13 columns]"
      ]
     },
     "execution_count": 189,
     "metadata": {},
     "output_type": "execute_result"
    }
   ],
   "source": [
    "test_df"
   ]
  },
  {
   "cell_type": "code",
   "execution_count": 190,
   "metadata": {},
   "outputs": [
    {
     "data": {
      "text/plain": [
       "prod_id               0\n",
       "min_age               0\n",
       "max_age               0\n",
       "difficulty_level      0\n",
       "prod_id               0\n",
       "set_name              0\n",
       "prod_desc            20\n",
       "theme_name            0\n",
       "piece_count           0\n",
       "prod_id               0\n",
       "num_reviews         103\n",
       "star_rating         103\n",
       "list_price            0\n",
       "dtype: int64"
      ]
     },
     "execution_count": 190,
     "metadata": {},
     "output_type": "execute_result"
    }
   ],
   "source": [
    "test_df.isnull().sum()"
   ]
  },
  {
   "cell_type": "code",
   "execution_count": 191,
   "metadata": {},
   "outputs": [
    {
     "data": {
      "image/png": "[encoded data removed]",
      "text/plain": [
       "<Figure size 432x288 with 1 Axes>"
      ]
     },
     "metadata": {
      "needs_background": "light"
     },
     "output_type": "display_data"
    }
   ],
   "source": [
    "#logging the target variable (natural log)\n",
    "train['list_price'] = np.log(train['list_price']) #taking the log of the list_price column\n",
    "#recreating the plots we did above\n",
    "scatter_piece_count = plt.scatter(train['piece_count'],train['list_price'])\n",
    "plt.xlabel('piece_count')\n",
    "plt.ylabel('natural log of list_price')\n",
    "plt.title('natural log of list_price vs piece_count')\n",
    "plt.show();"
   ]
  },
  {
   "cell_type": "markdown",
   "metadata": {},
   "source": [
    "We can see that taking the log of the target variable produced a scatter plot that will require a more complicated regression model that isn't simple linear. A linear regression model will not produce a good fit in this case. Let's try!!"
   ]
  },
  {
   "cell_type": "code",
   "execution_count": 192,
   "metadata": {},
   "outputs": [
    {
     "data": {
      "text/html": [
       "<table class=\"simpletable\">\n",
       "<caption>OLS Regression Results</caption>\n",
       "<tr>\n",
       "  <th>Dep. Variable:</th>       <td>list_price</td>    <th>  R-squared:         </th> <td>   0.550</td> \n",
       "</tr>\n",
       "<tr>\n",
       "  <th>Model:</th>                   <td>OLS</td>       <th>  Adj. R-squared:    </th> <td>   0.549</td> \n",
       "</tr>\n",
       "<tr>\n",
       "  <th>Method:</th>             <td>Least Squares</td>  <th>  F-statistic:       </th> <td>   898.4</td> \n",
       "</tr>\n",
       "<tr>\n",
       "  <th>Date:</th>             <td>Sat, 19 Feb 2022</td> <th>  Prob (F-statistic):</th> <td>1.40e-129</td>\n",
       "</tr>\n",
       "<tr>\n",
       "  <th>Time:</th>                 <td>13:00:32</td>     <th>  Log-Likelihood:    </th> <td> -651.86</td> \n",
       "</tr>\n",
       "<tr>\n",
       "  <th>No. Observations:</th>      <td>   737</td>      <th>  AIC:               </th> <td>   1308.</td> \n",
       "</tr>\n",
       "<tr>\n",
       "  <th>Df Residuals:</th>          <td>   735</td>      <th>  BIC:               </th> <td>   1317.</td> \n",
       "</tr>\n",
       "<tr>\n",
       "  <th>Df Model:</th>              <td>     1</td>      <th>                     </th>     <td> </td>    \n",
       "</tr>\n",
       "<tr>\n",
       "  <th>Covariance Type:</th>      <td>nonrobust</td>    <th>                     </th>     <td> </td>    \n",
       "</tr>\n",
       "</table>\n",
       "<table class=\"simpletable\">\n",
       "<tr>\n",
       "       <td></td>          <th>coef</th>     <th>std err</th>      <th>t</th>      <th>P>|t|</th>  <th>[0.025</th>    <th>0.975]</th>  \n",
       "</tr>\n",
       "<tr>\n",
       "  <th>Intercept</th>   <td>    2.9438</td> <td>    0.026</td> <td>  113.885</td> <td> 0.000</td> <td>    2.893</td> <td>    2.995</td>\n",
       "</tr>\n",
       "<tr>\n",
       "  <th>piece_count</th> <td>    0.0011</td> <td> 3.59e-05</td> <td>   29.973</td> <td> 0.000</td> <td>    0.001</td> <td>    0.001</td>\n",
       "</tr>\n",
       "</table>\n",
       "<table class=\"simpletable\">\n",
       "<tr>\n",
       "  <th>Omnibus:</th>       <td>42.828</td> <th>  Durbin-Watson:     </th> <td>   2.005</td>\n",
       "</tr>\n",
       "<tr>\n",
       "  <th>Prob(Omnibus):</th> <td> 0.000</td> <th>  Jarque-Bera (JB):  </th> <td>  57.655</td>\n",
       "</tr>\n",
       "<tr>\n",
       "  <th>Skew:</th>          <td>-0.502</td> <th>  Prob(JB):          </th> <td>3.02e-13</td>\n",
       "</tr>\n",
       "<tr>\n",
       "  <th>Kurtosis:</th>      <td> 3.932</td> <th>  Cond. No.          </th> <td>    861.</td>\n",
       "</tr>\n",
       "</table><br/><br/>Notes:<br/>[1] Standard Errors assume that the covariance matrix of the errors is correctly specified."
      ],
      "text/plain": [
       "<class 'statsmodels.iolib.summary.Summary'>\n",
       "\"\"\"\n",
       "                            OLS Regression Results                            \n",
       "==============================================================================\n",
       "Dep. Variable:             list_price   R-squared:                       0.550\n",
       "Model:                            OLS   Adj. R-squared:                  0.549\n",
       "Method:                 Least Squares   F-statistic:                     898.4\n",
       "Date:                Sat, 19 Feb 2022   Prob (F-statistic):          1.40e-129\n",
       "Time:                        13:00:32   Log-Likelihood:                -651.86\n",
       "No. Observations:                 737   AIC:                             1308.\n",
       "Df Residuals:                     735   BIC:                             1317.\n",
       "Df Model:                           1                                         \n",
       "Covariance Type:            nonrobust                                         \n",
       "===============================================================================\n",
       "                  coef    std err          t      P>|t|      [0.025      0.975]\n",
       "-------------------------------------------------------------------------------\n",
       "Intercept       2.9438      0.026    113.885      0.000       2.893       2.995\n",
       "piece_count     0.0011   3.59e-05     29.973      0.000       0.001       0.001\n",
       "==============================================================================\n",
       "Omnibus:                       42.828   Durbin-Watson:                   2.005\n",
       "Prob(Omnibus):                  0.000   Jarque-Bera (JB):               57.655\n",
       "Skew:                          -0.502   Prob(JB):                     3.02e-13\n",
       "Kurtosis:                       3.932   Cond. No.                         861.\n",
       "==============================================================================\n",
       "\n",
       "Notes:\n",
       "[1] Standard Errors assume that the covariance matrix of the errors is correctly specified.\n",
       "\"\"\""
      ]
     },
     "execution_count": 192,
     "metadata": {},
     "output_type": "execute_result"
    }
   ],
   "source": [
    "formula_log ='list_price ~ piece_count' \n",
    "model_log = ols(formula = formula_log, data = train).fit() \n",
    "model_log.summary() "
   ]
  },
  {
   "cell_type": "markdown",
   "metadata": {},
   "source": [
    "Just taking a quick peek of the above model summary, we get an R squared value of 0.55 which is pretty low compared to the other regression models we tested. This shows that linear regression isn't really working well here."
   ]
  },
  {
   "cell_type": "code",
   "execution_count": 193,
   "metadata": {},
   "outputs": [
    {
     "data": {
      "text/html": [
       "<div>\n",
       "<style scoped>\n",
       "    .dataframe tbody tr th:only-of-type {\n",
       "        vertical-align: middle;\n",
       "    }\n",
       "\n",
       "    .dataframe tbody tr th {\n",
       "        vertical-align: top;\n",
       "    }\n",
       "\n",
       "    .dataframe thead th {\n",
       "        text-align: right;\n",
       "    }\n",
       "</style>\n",
       "<table border=\"1\" class=\"dataframe\">\n",
       "  <thead>\n",
       "    <tr style=\"text-align: right;\">\n",
       "      <th></th>\n",
       "      <th>prod_id</th>\n",
       "      <th>min_age</th>\n",
       "      <th>max_age</th>\n",
       "      <th>difficulty_level</th>\n",
       "      <th>piece_count</th>\n",
       "      <th>num_reviews</th>\n",
       "      <th>star_rating</th>\n",
       "      <th>list_price</th>\n",
       "    </tr>\n",
       "  </thead>\n",
       "  <tbody>\n",
       "    <tr>\n",
       "      <th>0</th>\n",
       "      <td>60123</td>\n",
       "      <td>7</td>\n",
       "      <td>12</td>\n",
       "      <td>1</td>\n",
       "      <td>330</td>\n",
       "      <td>3.0</td>\n",
       "      <td>4.3</td>\n",
       "      <td>3.911823</td>\n",
       "    </tr>\n",
       "    <tr>\n",
       "      <th>1</th>\n",
       "      <td>71246</td>\n",
       "      <td>7</td>\n",
       "      <td>14</td>\n",
       "      <td>1</td>\n",
       "      <td>96</td>\n",
       "      <td>3.0</td>\n",
       "      <td>4.7</td>\n",
       "      <td>3.413192</td>\n",
       "    </tr>\n",
       "    <tr>\n",
       "      <th>2</th>\n",
       "      <td>10616</td>\n",
       "      <td>1</td>\n",
       "      <td>5</td>\n",
       "      <td>1</td>\n",
       "      <td>25</td>\n",
       "      <td>3.0</td>\n",
       "      <td>5.0</td>\n",
       "      <td>2.995232</td>\n",
       "    </tr>\n",
       "    <tr>\n",
       "      <th>3</th>\n",
       "      <td>31079</td>\n",
       "      <td>8</td>\n",
       "      <td>12</td>\n",
       "      <td>1</td>\n",
       "      <td>379</td>\n",
       "      <td>5.0</td>\n",
       "      <td>4.4</td>\n",
       "      <td>3.555062</td>\n",
       "    </tr>\n",
       "    <tr>\n",
       "      <th>4</th>\n",
       "      <td>42057</td>\n",
       "      <td>8</td>\n",
       "      <td>14</td>\n",
       "      <td>1</td>\n",
       "      <td>199</td>\n",
       "      <td>9.0</td>\n",
       "      <td>4.7</td>\n",
       "      <td>2.995232</td>\n",
       "    </tr>\n",
       "    <tr>\n",
       "      <th>...</th>\n",
       "      <td>...</td>\n",
       "      <td>...</td>\n",
       "      <td>...</td>\n",
       "      <td>...</td>\n",
       "      <td>...</td>\n",
       "      <td>...</td>\n",
       "      <td>...</td>\n",
       "      <td>...</td>\n",
       "    </tr>\n",
       "    <tr>\n",
       "      <th>799</th>\n",
       "      <td>70921</td>\n",
       "      <td>7</td>\n",
       "      <td>14</td>\n",
       "      <td>2</td>\n",
       "      <td>425</td>\n",
       "      <td>5.0</td>\n",
       "      <td>3.2</td>\n",
       "      <td>3.911823</td>\n",
       "    </tr>\n",
       "    <tr>\n",
       "      <th>800</th>\n",
       "      <td>41601</td>\n",
       "      <td>10</td>\n",
       "      <td>99</td>\n",
       "      <td>1</td>\n",
       "      <td>108</td>\n",
       "      <td>2.0</td>\n",
       "      <td>5.0</td>\n",
       "      <td>2.301585</td>\n",
       "    </tr>\n",
       "    <tr>\n",
       "      <th>801</th>\n",
       "      <td>60108</td>\n",
       "      <td>5</td>\n",
       "      <td>12</td>\n",
       "      <td>2</td>\n",
       "      <td>257</td>\n",
       "      <td>8.0</td>\n",
       "      <td>3.9</td>\n",
       "      <td>3.688629</td>\n",
       "    </tr>\n",
       "    <tr>\n",
       "      <th>802</th>\n",
       "      <td>10736</td>\n",
       "      <td>4</td>\n",
       "      <td>7</td>\n",
       "      <td>2</td>\n",
       "      <td>94</td>\n",
       "      <td>3.0</td>\n",
       "      <td>4.7</td>\n",
       "      <td>3.218476</td>\n",
       "    </tr>\n",
       "    <tr>\n",
       "      <th>803</th>\n",
       "      <td>41147</td>\n",
       "      <td>5</td>\n",
       "      <td>12</td>\n",
       "      <td>1</td>\n",
       "      <td>153</td>\n",
       "      <td>2.0</td>\n",
       "      <td>5.0</td>\n",
       "      <td>2.995232</td>\n",
       "    </tr>\n",
       "  </tbody>\n",
       "</table>\n",
       "<p>737 rows × 8 columns</p>\n",
       "</div>"
      ],
      "text/plain": [
       "     prod_id  min_age  max_age  difficulty_level  piece_count  num_reviews  \\\n",
       "0      60123        7       12                 1          330          3.0   \n",
       "1      71246        7       14                 1           96          3.0   \n",
       "2      10616        1        5                 1           25          3.0   \n",
       "3      31079        8       12                 1          379          5.0   \n",
       "4      42057        8       14                 1          199          9.0   \n",
       "..       ...      ...      ...               ...          ...          ...   \n",
       "799    70921        7       14                 2          425          5.0   \n",
       "800    41601       10       99                 1          108          2.0   \n",
       "801    60108        5       12                 2          257          8.0   \n",
       "802    10736        4        7                 2           94          3.0   \n",
       "803    41147        5       12                 1          153          2.0   \n",
       "\n",
       "     star_rating  list_price  \n",
       "0            4.3    3.911823  \n",
       "1            4.7    3.413192  \n",
       "2            5.0    2.995232  \n",
       "3            4.4    3.555062  \n",
       "4            4.7    2.995232  \n",
       "..           ...         ...  \n",
       "799          3.2    3.911823  \n",
       "800          5.0    2.301585  \n",
       "801          3.9    3.688629  \n",
       "802          4.7    3.218476  \n",
       "803          5.0    2.995232  \n",
       "\n",
       "[737 rows x 8 columns]"
      ]
     },
     "execution_count": 193,
     "metadata": {},
     "output_type": "execute_result"
    }
   ],
   "source": [
    "train"
   ]
  },
  {
   "cell_type": "code",
   "execution_count": 194,
   "metadata": {},
   "outputs": [
    {
     "name": "stdout",
     "output_type": "stream",
     "text": [
      "The predicted list price when all 3 numeric predictors have a value equal to their respective mean is: [3.65905479]\n"
     ]
    }
   ],
   "source": [
    "#performing multiple regression with all numeric predictors (piece count, num reviews, star rating)\n",
    "mult_reg_train = train.head(10)\n",
    "x_axis = mult_reg_train[['piece_count','num_reviews','star_rating']] #predictor variables\n",
    "y_axis = mult_reg_train['list_price'] #dependent variable\n",
    "\n",
    "from sklearn import linear_model\n",
    "\n",
    "regr = linear_model.LinearRegression() #creating a linear regression object\n",
    "regr.fit(x_axis,y_axis) #filling the regression object with data that describes the relationship between the parameters\n",
    "#in x_axis and y_axis\n",
    "\n",
    "#for fun\n",
    "avg_num_reviews = sum(mult_reg_train['num_reviews'])/len(mult_reg_train['num_reviews'])\n",
    "avg_star_rating = sum(mult_reg_train['star_rating'])/len(mult_reg_train['star_rating'])\n",
    "avg_piece_count = sum(mult_reg_train['piece_count'])/len(mult_reg_train['piece_count'])\n",
    "\n",
    "#predict the list price when the 3 numeric predictors have values equal to their respective mean\n",
    "predictedListPrice = regr.predict([[avg_piece_count,avg_num_reviews,avg_star_rating]])\n",
    "print(\"The predicted list price when all 3 numeric predictors have a value equal to their respective mean is:\",predictedListPrice)\n"
   ]
  }
 ],
 "metadata": {
  "kernelspec": {
   "display_name": "Python 3",
   "language": "python",
   "name": "python3"
  },
  "language_info": {
   "codemirror_mode": {
    "name": "ipython",
    "version": 3
   },
   "file_extension": ".py",
   "mimetype": "text/x-python",
   "name": "python",
   "nbconvert_exporter": "python",
   "pygments_lexer": "ipython3",
   "version": "3.9.5"
  }
 },
 "nbformat": 4,
 "nbformat_minor": 4
}
